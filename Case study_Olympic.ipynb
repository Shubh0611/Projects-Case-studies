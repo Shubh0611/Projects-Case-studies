{
 "cells": [
  {
   "cell_type": "code",
   "execution_count": 1,
   "id": "037f5313",
   "metadata": {},
   "outputs": [],
   "source": [
    "import pandas as pd # data processing, CSV file I/O (e.g. pd.read_csv)\n",
    "import numpy as np # linear algebra\n",
    "import matplotlib.pyplot as plt\n",
    "from scipy.stats import norm\n",
    "import scipy.stats as stats"
   ]
  },
  {
   "cell_type": "markdown",
   "id": "d0cbc979",
   "metadata": {},
   "source": [
    "Q1. Import the Dataset"
   ]
  },
  {
   "cell_type": "code",
   "execution_count": 2,
   "id": "f5ce49ec",
   "metadata": {},
   "outputs": [
    {
     "name": "stdout",
     "output_type": "stream",
     "text": [
      "(271116, 17)\n"
     ]
    }
   ],
   "source": [
    "olympics = pd.read_csv('olympics.csv')\n",
    "print(olympics.shape)"
   ]
  },
  {
   "cell_type": "markdown",
   "id": "f3f0d74c",
   "metadata": {},
   "source": [
    "Q2. Describe the Age column of the dataset on various parameters using describe API."
   ]
  },
  {
   "cell_type": "code",
   "execution_count": 3,
   "id": "221d7c07",
   "metadata": {},
   "outputs": [
    {
     "name": "stdout",
     "output_type": "stream",
     "text": [
      "count    261642.000000\n",
      "mean         25.556898\n",
      "std           6.393561\n",
      "min          10.000000\n",
      "25%          21.000000\n",
      "50%          24.000000\n",
      "75%          28.000000\n",
      "max          97.000000\n",
      "Name: Age, dtype: float64\n"
     ]
    }
   ],
   "source": [
    "age = olympics.Age\n",
    "print(age.describe())"
   ]
  },
  {
   "cell_type": "markdown",
   "id": "07940a20",
   "metadata": {},
   "source": [
    "Q3. Print the list of columns that have numeric datatypes."
   ]
  },
  {
   "cell_type": "code",
   "execution_count": 4,
   "id": "2e53e71e",
   "metadata": {},
   "outputs": [
    {
     "name": "stdout",
     "output_type": "stream",
     "text": [
      "['ID', 'Age', 'Height', 'Weight', 'Year']\n"
     ]
    }
   ],
   "source": [
    "df_numerics_only = olympics.select_dtypes(include=np.number)\n",
    "col = df_numerics_only.columns.values.tolist()\n",
    "print(col)"
   ]
  },
  {
   "cell_type": "markdown",
   "id": "793bc637",
   "metadata": {},
   "source": [
    "Q4. Print the columns that contain null values along with the count of null values present in each column."
   ]
  },
  {
   "cell_type": "code",
   "execution_count": 5,
   "id": "45b14556",
   "metadata": {},
   "outputs": [
    {
     "name": "stdout",
     "output_type": "stream",
     "text": [
      "Age - 9474\n",
      "Height - 60171\n",
      "Weight - 62875\n",
      "Medal - 231333\n",
      "region - 370\n",
      "notes - 266077\n"
     ]
    }
   ],
   "source": [
    "keys=olympics.isna().sum().keys()\n",
    "values=olympics.isna().sum().values\n",
    "for i in range(len(keys)):\n",
    "    if(values[i]>0):\n",
    "        print(keys[i],\"-\",values[i])"
   ]
  },
  {
   "cell_type": "markdown",
   "id": "2d5d5b08",
   "metadata": {},
   "source": [
    "Q5. In the previous column we discovered the columns that contain any missing values. Now we need to handle these missing values. For the columns \"Height, Weight and notes\", we are going to drop these columns as they are not required in our further analysis. For the \"region\" column, remove all the rows where the region column is having null values."
   ]
  },
  {
   "cell_type": "code",
   "execution_count": 6,
   "id": "5072ef7e",
   "metadata": {},
   "outputs": [
    {
     "name": "stdout",
     "output_type": "stream",
     "text": [
      "(270746, 14)\n"
     ]
    }
   ],
   "source": [
    "fl = olympics.copy()\n",
    "fl.drop(['Height', 'Weight', 'notes'], axis=1, inplace=True)\n",
    "fl = fl[fl['region'].notna()]\n",
    "print(fl.shape)"
   ]
  },
  {
   "cell_type": "markdown",
   "id": "044e4324",
   "metadata": {},
   "source": [
    "Q6. In previous question we handled the missing values for the columns [\"Height\", \"Weight\", \"notes\", \"region\"].\n",
    "Still there are missing values present in the \"Medal\" column. Now you don't need to drop the values present in this column because Medals have a NaN in about 2,31,333 rows. These can be explained since not all participating athletes would win medals.\n",
    "Let's replace these missing values with 'DNW'. DNW means Did not win.\n",
    "For the output print the unique number of values present in the Medal column."
   ]
  },
  {
   "cell_type": "code",
   "execution_count": 7,
   "id": "0bb15ae6",
   "metadata": {},
   "outputs": [
    {
     "name": "stdout",
     "output_type": "stream",
     "text": [
      "DNW 230972\n",
      "Gold 13371\n",
      "Bronze 13291\n",
      "Silver 13112\n"
     ]
    }
   ],
   "source": [
    "olympics.drop(columns=[\"notes\", \"Height\", \"Weight\"], inplace=True)\n",
    "olympics = olympics[pd.notnull(olympics['region'])]\n",
    "\n",
    "olympics[\"Medal\"].fillna(\"DNW\",inplace=True)\n",
    "List=olympics[\"Medal\"].values\n",
    "Dict={}\n",
    "for each in List:\n",
    "    if each in Dict:\n",
    "        Dict[each]+=1\n",
    "    else:\n",
    "        Dict[each]=1\n",
    "for each in Dict:\n",
    "    print(each, Dict[each])"
   ]
  },
  {
   "cell_type": "markdown",
   "id": "14b4ab43",
   "metadata": {},
   "source": [
    "Q7.\n",
    "You have an Age column that contains some null values. Rather than deleting them, fill these missing values by (means of the age of the players belonging to that particular game)."
   ]
  },
  {
   "cell_type": "code",
   "execution_count": 8,
   "id": "ea7d8259",
   "metadata": {},
   "outputs": [
    {
     "name": "stdout",
     "output_type": "stream",
     "text": [
      "26\n"
     ]
    }
   ],
   "source": [
    "mean_age = round(olympics.groupby('Sport')['Age'].mean())\n",
    "age_loc = olympics.loc[olympics.Age.isnull()].index\n",
    "for i in age_loc:\n",
    "    olympics.loc[i, \"Age\"] = mean_age[olympics.loc[i, \"Sport\"]]\n",
    "print(round(olympics.Age.mean()))"
   ]
  },
  {
   "cell_type": "markdown",
   "id": "9fb51e38",
   "metadata": {},
   "source": [
    "Q8.Calculate the probability distribution of the Age column.\n",
    "Firstly plot the line chart to get the idea of the range of probability distribution and then print the maximum probability distribution in the range of 5.\n"
   ]
  },
  {
   "cell_type": "code",
   "execution_count": 9,
   "id": "61219cfd",
   "metadata": {},
   "outputs": [
    {
     "data": {
      "image/png": "[encoded data removed]",
      "text/plain": [
       "<Figure size 432x288 with 1 Axes>"
      ]
     },
     "metadata": {
      "needs_background": "light"
     },
     "output_type": "display_data"
    },
    {
     "name": "stdout",
     "output_type": "stream",
     "text": [
      "20 to 25\n"
     ]
    }
   ],
   "source": [
    "swimming_age = olympics.loc[(olympics[\"Sport\"] == \"Swimming\") & (olympics[\"Year\"] >= 2000) & (olympics[\"Year\"] <= 2016)][\"Age\"]\n",
    "swimming_age = sorted(swimming_age)\n",
    "mean_swimming_age = np.mean(swimming_age)\n",
    "std_swimming_age = np.std(swimming_age)\n",
    "probability_pdf = norm.pdf(swimming_age, loc=mean_swimming_age, scale=std_swimming_age)\n",
    "plt.plot(swimming_age, probability_pdf)\n",
    "plt.show()\n",
    "print(\"20 to 25\")"
   ]
  },
  {
   "cell_type": "markdown",
   "id": "bffacd5f",
   "metadata": {},
   "source": [
    "Q9. Is the overall distribution of Gold Medals tally of India, is it Reft or Right skewed?"
   ]
  },
  {
   "cell_type": "code",
   "execution_count": 10,
   "id": "145d0a3c",
   "metadata": {},
   "outputs": [
    {
     "name": "stdout",
     "output_type": "stream",
     "text": [
      "Left Skewed\n"
     ]
    }
   ],
   "source": [
    "olympics.rename(columns = {'region':'Country'}, inplace = True)\n",
    "india_medals = olympics.loc[(olympics[\"Country\"] == \"India\") & (olympics[\"Medal\"] == \"Gold\")]\n",
    "gold_count = india_medals.groupby(\"Year\")[\"Medal\"].value_counts()\n",
    "if stats.skew(gold_count, bias=False) > 0:\n",
    "    print(\"Right Skewed\")\n",
    "else:\n",
    "    print(\"Left Skewed\")"
   ]
  },
  {
   "cell_type": "markdown",
   "id": "ad262538",
   "metadata": {},
   "source": [
    "Q10. What is the standard deviation/error of the distribution of gold medals when the UK is hosting the Olympic games and when not hosting the games? (When games are hosted in the UK, the city is London.)"
   ]
  },
  {
   "cell_type": "code",
   "execution_count": 11,
   "id": "1870db79",
   "metadata": {},
   "outputs": [
    {
     "name": "stdout",
     "output_type": "stream",
     "text": [
      "71.97453253292676\n",
      "18.14528124684469\n"
     ]
    }
   ],
   "source": [
    "import statistics\n",
    "import numpy as np # linear algebra\n",
    "import pandas as pd # data processing, CSV file I/O (e.g. pd.read_csv)\n",
    "import matplotlib.pyplot as plt\n",
    "olympics = pd.read_csv('olympics_cleaned.csv')\n",
    "london_medals_host = olympics.loc[(olympics[\"City\"] == \"London\") & (olympics[\"region\"] == \"UK\") & (olympics[\"Medal\"] == \"Gold\")]\n",
    "gold_count_host = london_medals_host.groupby(\"Year\")[\"Medal\"].value_counts()\n",
    "london_medals_non_host = olympics.loc[(olympics[\"City\"] != \"London\") & (olympics[\"region\"] == \"UK\") & (olympics[\"Medal\"] == \"Gold\")]\n",
    "gold_count_non_host = london_medals_non_host.groupby(\"Year\")[\"Medal\"].value_counts()\n",
    "host_stdev = statistics.stdev(gold_count_host)\n",
    "non_host_stdev = statistics.stdev(gold_count_non_host)\n",
    "print(host_stdev)\n",
    "print(non_host_stdev)"
   ]
  },
  {
   "cell_type": "markdown",
   "id": "1b135040",
   "metadata": {},
   "source": [
    "Q11. Standardise the age of all the participants participating in the Shooting Competition and calculate this standardised data's mean and standard deviation."
   ]
  },
  {
   "cell_type": "code",
   "execution_count": 12,
   "id": "2ab7809c",
   "metadata": {},
   "outputs": [
    {
     "name": "stdout",
     "output_type": "stream",
     "text": [
      "0\n",
      "1\n"
     ]
    }
   ],
   "source": [
    "shooting_age = olympics[olympics[\"Sport\"] == \"Shooting\"][\"Age\"] \n",
    "original_mean = statistics.mean(shooting_age) \n",
    "original_sd = statistics.stdev(shooting_age)\n",
    "standardized_data = [] \n",
    "for d in shooting_age:\n",
    "    standardized_data.append((d - original_mean)/original_sd) \n",
    "standardized_mean = statistics.mean(standardized_data) \n",
    "standardized_sd = statistics.stdev(standardized_data) \n",
    "print(round(standardized_mean)) \n",
    "print(round(standardized_sd))"
   ]
  },
  {
   "cell_type": "markdown",
   "id": "672bf503",
   "metadata": {},
   "source": [
    "Q12. Is Age positively correlated or negatively correlated with winning the medal?"
   ]
  },
  {
   "cell_type": "code",
   "execution_count": 13,
   "id": "96b4f7d2",
   "metadata": {},
   "outputs": [
    {
     "name": "stdout",
     "output_type": "stream",
     "text": [
      "Positive\n"
     ]
    }
   ],
   "source": [
    "labels, categories = pd.factorize(olympics[\"Medal\"])\n",
    "olympics[\"medal_labels\"] = labels\n",
    "if olympics[\"Age\"].corr(olympics[\"medal_labels\"]) > 0:\n",
    "    print(\"Positive\")\n",
    "else:\n",
    "    print(\"Negative\")"
   ]
  },
  {
   "cell_type": "markdown",
   "id": "2681d2fb",
   "metadata": {},
   "source": [
    "Q13. From the dataset, Calculate the IQR for the Age column."
   ]
  },
  {
   "cell_type": "code",
   "execution_count": 14,
   "id": "76b99ce2",
   "metadata": {},
   "outputs": [
    {
     "name": "stdout",
     "output_type": "stream",
     "text": [
      "6.0\n"
     ]
    }
   ],
   "source": [
    "age = olympics.Age\n",
    "Q1 = np.percentile(age,25)\n",
    "Q3 = np.percentile(age, 75)\n",
    "iqr = Q3 - Q1\n",
    "print(iqr)\n"
   ]
  },
  {
   "cell_type": "markdown",
   "id": "82401a3a",
   "metadata": {},
   "source": [
    "Q14. In how many cities Olympics been held so far?\n",
    "Also create a bar graph of the number of times cities hosted the Olympics."
   ]
  },
  {
   "cell_type": "code",
   "execution_count": 15,
   "id": "d35b5148",
   "metadata": {},
   "outputs": [
    {
     "data": {
      "image/png": "[encoded data removed]",
      "text/plain": [
       "<Figure size 1080x360 with 1 Axes>"
      ]
     },
     "metadata": {
      "needs_background": "light"
     },
     "output_type": "display_data"
    },
    {
     "name": "stdout",
     "output_type": "stream",
     "text": [
      "42\n"
     ]
    }
   ],
   "source": [
    "data = []\n",
    "for city in olympics['City'].unique():\n",
    "    host_count = 0\n",
    "    for year in olympics['Year'].unique():\n",
    "        if len(olympics[(olympics['City'] == city) & (olympics['Year'] == year)]) > 0:\n",
    "            host_count += 1\n",
    "    data.append([city, host_count])\n",
    "plot_data = pd.DataFrame(data,columns = ['City','No. of times hosted']).sort_values(by='No. of times hosted', ascending = False)\n",
    "plot_data.plot(x = 'City', y = 'No. of times hosted', kind = 'bar', figsize = (15,5))\n",
    "plt.show()\n",
    "Total_cities = len(olympics['City'].unique())\n",
    "print(Total_cities)"
   ]
  },
  {
   "cell_type": "markdown",
   "id": "cf6b6592",
   "metadata": {},
   "source": [
    "Q15. Which sport is having the most number of medals so far?\n",
    "First plot the bar chart to find out the top 5 sports that have the most number of medals and then print the sport having the highest medals."
   ]
  },
  {
   "cell_type": "code",
   "execution_count": 16,
   "id": "6e08e0dd",
   "metadata": {},
   "outputs": [
    {
     "data": {
      "image/png": "[encoded data removed]",
      "text/plain": [
       "<Figure size 720x360 with 1 Axes>"
      ]
     },
     "metadata": {
      "needs_background": "light"
     },
     "output_type": "display_data"
    },
    {
     "name": "stdout",
     "output_type": "stream",
     "text": [
      "Athletics\n"
     ]
    }
   ],
   "source": [
    "olympics.groupby('Sport').count()['Medal'].sort_values(ascending =False).head().plot.bar(figsize=(10, 5))\n",
    "plt.show()\n",
    "print(\"Athletics\")"
   ]
  },
  {
   "cell_type": "markdown",
   "id": "76f1b967",
   "metadata": {},
   "source": [
    "Q16. Which Sport has the most number of Gold Medals so far?\n",
    "First plot the bar chart to find out the top 5 sports that have the most number Gold of medals and then print the sport having the highest number of Gold medals."
   ]
  },
  {
   "cell_type": "code",
   "execution_count": 17,
   "id": "cabb8a13",
   "metadata": {},
   "outputs": [
    {
     "data": {
      "image/png": "[encoded data removed]",
      "text/plain": [
       "<Figure size 720x360 with 1 Axes>"
      ]
     },
     "metadata": {
      "needs_background": "light"
     },
     "output_type": "display_data"
    },
    {
     "name": "stdout",
     "output_type": "stream",
     "text": [
      "Athletics\n"
     ]
    }
   ],
   "source": [
    "gold = olympics[olympics['Medal'] == 'Gold']\n",
    "data = []\n",
    "for sport in gold['Sport'].unique():\n",
    "    data.append([sport, len(gold[gold['Sport'] == sport])])\n",
    "data = pd.DataFrame(data, columns = ['Sport', 'Gold']).sort_values(by='Gold', ascending =False).head()\n",
    "data.plot(x='Sport', y='Gold', kind='bar', figsize=(10,5))\n",
    "plt.show()\n",
    "print(\"Athletics\")"
   ]
  },
  {
   "cell_type": "markdown",
   "id": "e5818ca5",
   "metadata": {},
   "source": [
    "Q17 In which year did India win the first Gold Medal in the Olympics?"
   ]
  },
  {
   "cell_type": "code",
   "execution_count": 18,
   "id": "e007a51e",
   "metadata": {},
   "outputs": [
    {
     "name": "stdout",
     "output_type": "stream",
     "text": [
      "1924\n"
     ]
    }
   ],
   "source": [
    "gold = olympics[olympics['Medal'] == 'Gold']\n",
    "print(gold[gold['region'] == 'India']['Year'].min())"
   ]
  },
  {
   "cell_type": "markdown",
   "id": "50368814",
   "metadata": {},
   "source": [
    "Q18. Which event is most popular in terms of the number of players?\n",
    "First plot the bar chart to find out the top 5 sports that have the most number of participants and then print the sport having the highest number of players participating."
   ]
  },
  {
   "cell_type": "code",
   "execution_count": 19,
   "id": "1b4a9ba1",
   "metadata": {},
   "outputs": [
    {
     "data": {
      "image/png": "[encoded data removed]",
      "text/plain": [
       "<Figure size 720x360 with 1 Axes>"
      ]
     },
     "metadata": {
      "needs_background": "light"
     },
     "output_type": "display_data"
    },
    {
     "name": "stdout",
     "output_type": "stream",
     "text": [
      "Football Men's Football\n"
     ]
    }
   ],
   "source": [
    "popular_event = olympics.groupby(\"Event\").count()['Name'].sort_values(ascending = False).head().plot.bar(figsize=(10, 5))\n",
    "plt.show()\n",
    "print(\"Football Men's Football\")"
   ]
  },
  {
   "cell_type": "markdown",
   "id": "42f84498",
   "metadata": {},
   "source": [
    "Q19. Which sport is having the most female Gold Medalists?\n",
    "First plot the bar chart to find out the top 5 sports that have the most female Gold Medalists and then print the sport having the most female Gold Medalists."
   ]
  },
  {
   "cell_type": "code",
   "execution_count": 20,
   "id": "66c2409c",
   "metadata": {},
   "outputs": [
    {
     "data": {
      "image/png": "[encoded data removed]",
      "text/plain": [
       "<Figure size 1440x360 with 1 Axes>"
      ]
     },
     "metadata": {
      "needs_background": "light"
     },
     "output_type": "display_data"
    },
    {
     "name": "stdout",
     "output_type": "stream",
     "text": [
      "Swimming\n"
     ]
    }
   ],
   "source": [
    "gd= olympics[olympics.Medal =='Gold']\n",
    "gdf = gd[gd.Sex =='F']\n",
    "data=[]\n",
    "for sports in gdf.Sport.unique():\n",
    "    data.append([sports, len(gdf[gdf.Sport==sports])])\n",
    "data= pd.DataFrame(data,columns=['Sport','GoldMedalistFemale']).sort_values(by='GoldMedalistFemale',ascending=False).head()\n",
    "data.plot(x='Sport',y='GoldMedalistFemale', kind='bar', figsize=(20, 5))\n",
    "plt.show()\n",
    "print(\"Swimming\")"
   ]
  },
  {
   "cell_type": "code",
   "execution_count": null,
   "id": "f0c6b920",
   "metadata": {},
   "outputs": [],
   "source": []
  }
 ],
 "metadata": {
  "kernelspec": {
   "display_name": "Python 3 (ipykernel)",
   "language": "python",
   "name": "python3"
  },
  "language_info": {
   "codemirror_mode": {
    "name": "ipython",
    "version": 3
   },
   "file_extension": ".py",
   "mimetype": "text/x-python",
   "name": "python",
   "nbconvert_exporter": "python",
   "pygments_lexer": "ipython3",
   "version": "3.9.12"
  }
 },
 "nbformat": 4,
 "nbformat_minor": 5
}
