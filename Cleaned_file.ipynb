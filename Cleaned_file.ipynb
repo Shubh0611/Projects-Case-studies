{
 "cells": [
  {
   "cell_type": "code",
   "execution_count": 67,
   "id": "f462623c",
   "metadata": {},
   "outputs": [],
   "source": [
    "#importing dataset\n",
    "import pandas as pd\n",
    "import numpy as np \n",
    "from numpy import nan\n",
    "\n",
    "file=pd.read_csv(\"playstore_apps.csv\", index_col=\"App\")"
   ]
  },
  {
   "cell_type": "code",
   "execution_count": 39,
   "id": "66964cb1",
   "metadata": {},
   "outputs": [
    {
     "data": {
      "text/html": [
       "<div>\n",
       "<style scoped>\n",
       "    .dataframe tbody tr th:only-of-type {\n",
       "        vertical-align: middle;\n",
       "    }\n",
       "\n",
       "    .dataframe tbody tr th {\n",
       "        vertical-align: top;\n",
       "    }\n",
       "\n",
       "    .dataframe thead th {\n",
       "        text-align: right;\n",
       "    }\n",
       "</style>\n",
       "<table border=\"1\" class=\"dataframe\">\n",
       "  <thead>\n",
       "    <tr style=\"text-align: right;\">\n",
       "      <th></th>\n",
       "      <th>Category</th>\n",
       "      <th>Rating</th>\n",
       "      <th>Reviews</th>\n",
       "      <th>Size</th>\n",
       "      <th>Installs</th>\n",
       "      <th>Type</th>\n",
       "      <th>Price</th>\n",
       "      <th>Content Rating</th>\n",
       "      <th>Genres</th>\n",
       "      <th>Last Updated</th>\n",
       "      <th>Current Ver</th>\n",
       "      <th>Android Ver</th>\n",
       "    </tr>\n",
       "    <tr>\n",
       "      <th>App</th>\n",
       "      <th></th>\n",
       "      <th></th>\n",
       "      <th></th>\n",
       "      <th></th>\n",
       "      <th></th>\n",
       "      <th></th>\n",
       "      <th></th>\n",
       "      <th></th>\n",
       "      <th></th>\n",
       "      <th></th>\n",
       "      <th></th>\n",
       "      <th></th>\n",
       "    </tr>\n",
       "  </thead>\n",
       "  <tbody>\n",
       "    <tr>\n",
       "      <th>Photo Editor &amp; Candy Camera &amp; Grid &amp; ScrapBook</th>\n",
       "      <td>ART_AND_DESIGN</td>\n",
       "      <td>4.1</td>\n",
       "      <td>159.0</td>\n",
       "      <td>19M</td>\n",
       "      <td>10000.0</td>\n",
       "      <td>Free</td>\n",
       "      <td>0.0</td>\n",
       "      <td>Everyone</td>\n",
       "      <td>Art &amp; Design</td>\n",
       "      <td>07-01-2018</td>\n",
       "      <td>1.0.0</td>\n",
       "      <td>4.0.3 and up</td>\n",
       "    </tr>\n",
       "    <tr>\n",
       "      <th>Coloring book moana</th>\n",
       "      <td>ART_AND_DESIGN</td>\n",
       "      <td>3.9</td>\n",
       "      <td>967.0</td>\n",
       "      <td>14M</td>\n",
       "      <td>500000.0</td>\n",
       "      <td>Free</td>\n",
       "      <td>0.0</td>\n",
       "      <td>Everyone</td>\n",
       "      <td>Art &amp; Design;Pretend Play</td>\n",
       "      <td>15-01-2018</td>\n",
       "      <td>2.0.0</td>\n",
       "      <td>4.0.3 and up</td>\n",
       "    </tr>\n",
       "    <tr>\n",
       "      <th>U Launcher Lite – FREE Live Cool Themes, Hide Apps</th>\n",
       "      <td>ART_AND_DESIGN</td>\n",
       "      <td>4.7</td>\n",
       "      <td>87510.0</td>\n",
       "      <td>8.7M</td>\n",
       "      <td>5000000.0</td>\n",
       "      <td>Free</td>\n",
       "      <td>0.0</td>\n",
       "      <td>Everyone</td>\n",
       "      <td>Art &amp; Design</td>\n",
       "      <td>01-08-2018</td>\n",
       "      <td>1.2.4</td>\n",
       "      <td>4.0.3 and up</td>\n",
       "    </tr>\n",
       "    <tr>\n",
       "      <th>Sketch - Draw &amp; Paint</th>\n",
       "      <td>ART_AND_DESIGN</td>\n",
       "      <td>4.5</td>\n",
       "      <td>215644.0</td>\n",
       "      <td>25M</td>\n",
       "      <td>50000000.0</td>\n",
       "      <td>Free</td>\n",
       "      <td>0.0</td>\n",
       "      <td>Teen</td>\n",
       "      <td>Art &amp; Design</td>\n",
       "      <td>08-06-2018</td>\n",
       "      <td>Varies with device</td>\n",
       "      <td>4.2 and up</td>\n",
       "    </tr>\n",
       "    <tr>\n",
       "      <th>Pixel Draw - Number Art Coloring Book</th>\n",
       "      <td>ART_AND_DESIGN</td>\n",
       "      <td>4.3</td>\n",
       "      <td>967.0</td>\n",
       "      <td>2.8M</td>\n",
       "      <td>100000.0</td>\n",
       "      <td>Free</td>\n",
       "      <td>0.0</td>\n",
       "      <td>Everyone</td>\n",
       "      <td>Art &amp; Design;Creativity</td>\n",
       "      <td>20-06-2018</td>\n",
       "      <td>1.1</td>\n",
       "      <td>4.4 and up</td>\n",
       "    </tr>\n",
       "    <tr>\n",
       "      <th>...</th>\n",
       "      <td>...</td>\n",
       "      <td>...</td>\n",
       "      <td>...</td>\n",
       "      <td>...</td>\n",
       "      <td>...</td>\n",
       "      <td>...</td>\n",
       "      <td>...</td>\n",
       "      <td>...</td>\n",
       "      <td>...</td>\n",
       "      <td>...</td>\n",
       "      <td>...</td>\n",
       "      <td>...</td>\n",
       "    </tr>\n",
       "    <tr>\n",
       "      <th>Sya9a Maroc - FR</th>\n",
       "      <td>FAMILY</td>\n",
       "      <td>4.5</td>\n",
       "      <td>38.0</td>\n",
       "      <td>53M</td>\n",
       "      <td>5000.0</td>\n",
       "      <td>Free</td>\n",
       "      <td>0.0</td>\n",
       "      <td>Everyone</td>\n",
       "      <td>Education</td>\n",
       "      <td>25-07-2017</td>\n",
       "      <td>1.48</td>\n",
       "      <td>4.1 and up</td>\n",
       "    </tr>\n",
       "    <tr>\n",
       "      <th>Fr. Mike Schmitz Audio Teachings</th>\n",
       "      <td>FAMILY</td>\n",
       "      <td>5.0</td>\n",
       "      <td>4.0</td>\n",
       "      <td>3.6M</td>\n",
       "      <td>100.0</td>\n",
       "      <td>Free</td>\n",
       "      <td>0.0</td>\n",
       "      <td>Everyone</td>\n",
       "      <td>Education</td>\n",
       "      <td>06-07-2018</td>\n",
       "      <td>1</td>\n",
       "      <td>4.1 and up</td>\n",
       "    </tr>\n",
       "    <tr>\n",
       "      <th>Parkinson Exercices FR</th>\n",
       "      <td>MEDICAL</td>\n",
       "      <td>NaN</td>\n",
       "      <td>3.0</td>\n",
       "      <td>9.5M</td>\n",
       "      <td>1000.0</td>\n",
       "      <td>Free</td>\n",
       "      <td>0.0</td>\n",
       "      <td>Everyone</td>\n",
       "      <td>Medical</td>\n",
       "      <td>20-01-2017</td>\n",
       "      <td>1</td>\n",
       "      <td>2.2 and up</td>\n",
       "    </tr>\n",
       "    <tr>\n",
       "      <th>The SCP Foundation DB fr nn5n</th>\n",
       "      <td>BOOKS_AND_REFERENCE</td>\n",
       "      <td>4.5</td>\n",
       "      <td>114.0</td>\n",
       "      <td>Varies with device</td>\n",
       "      <td>1000.0</td>\n",
       "      <td>Free</td>\n",
       "      <td>0.0</td>\n",
       "      <td>Mature 17+</td>\n",
       "      <td>Books &amp; Reference</td>\n",
       "      <td>19-01-2015</td>\n",
       "      <td>Varies with device</td>\n",
       "      <td>Varies with device</td>\n",
       "    </tr>\n",
       "    <tr>\n",
       "      <th>iHoroscope - 2018 Daily Horoscope &amp; Astrology</th>\n",
       "      <td>LIFESTYLE</td>\n",
       "      <td>4.5</td>\n",
       "      <td>398307.0</td>\n",
       "      <td>19M</td>\n",
       "      <td>10000000.0</td>\n",
       "      <td>Free</td>\n",
       "      <td>0.0</td>\n",
       "      <td>Everyone</td>\n",
       "      <td>Lifestyle</td>\n",
       "      <td>25-07-2018</td>\n",
       "      <td>Varies with device</td>\n",
       "      <td>Varies with device</td>\n",
       "    </tr>\n",
       "  </tbody>\n",
       "</table>\n",
       "<p>10841 rows × 12 columns</p>\n",
       "</div>"
      ],
      "text/plain": [
       "                                                               Category  \\\n",
       "App                                                                       \n",
       "Photo Editor & Candy Camera & Grid & ScrapBook           ART_AND_DESIGN   \n",
       "Coloring book moana                                      ART_AND_DESIGN   \n",
       "U Launcher Lite – FREE Live Cool Themes, Hide Apps       ART_AND_DESIGN   \n",
       "Sketch - Draw & Paint                                    ART_AND_DESIGN   \n",
       "Pixel Draw - Number Art Coloring Book                    ART_AND_DESIGN   \n",
       "...                                                                 ...   \n",
       "Sya9a Maroc - FR                                                 FAMILY   \n",
       "Fr. Mike Schmitz Audio Teachings                                 FAMILY   \n",
       "Parkinson Exercices FR                                          MEDICAL   \n",
       "The SCP Foundation DB fr nn5n                       BOOKS_AND_REFERENCE   \n",
       "iHoroscope - 2018 Daily Horoscope & Astrology                 LIFESTYLE   \n",
       "\n",
       "                                                    Rating   Reviews  \\\n",
       "App                                                                    \n",
       "Photo Editor & Candy Camera & Grid & ScrapBook         4.1     159.0   \n",
       "Coloring book moana                                    3.9     967.0   \n",
       "U Launcher Lite – FREE Live Cool Themes, Hide Apps     4.7   87510.0   \n",
       "Sketch - Draw & Paint                                  4.5  215644.0   \n",
       "Pixel Draw - Number Art Coloring Book                  4.3     967.0   \n",
       "...                                                    ...       ...   \n",
       "Sya9a Maroc - FR                                       4.5      38.0   \n",
       "Fr. Mike Schmitz Audio Teachings                       5.0       4.0   \n",
       "Parkinson Exercices FR                                 NaN       3.0   \n",
       "The SCP Foundation DB fr nn5n                          4.5     114.0   \n",
       "iHoroscope - 2018 Daily Horoscope & Astrology          4.5  398307.0   \n",
       "\n",
       "                                                                  Size  \\\n",
       "App                                                                      \n",
       "Photo Editor & Candy Camera & Grid & ScrapBook                     19M   \n",
       "Coloring book moana                                                14M   \n",
       "U Launcher Lite – FREE Live Cool Themes, Hide Apps                8.7M   \n",
       "Sketch - Draw & Paint                                              25M   \n",
       "Pixel Draw - Number Art Coloring Book                             2.8M   \n",
       "...                                                                ...   \n",
       "Sya9a Maroc - FR                                                   53M   \n",
       "Fr. Mike Schmitz Audio Teachings                                  3.6M   \n",
       "Parkinson Exercices FR                                            9.5M   \n",
       "The SCP Foundation DB fr nn5n                       Varies with device   \n",
       "iHoroscope - 2018 Daily Horoscope & Astrology                      19M   \n",
       "\n",
       "                                                      Installs  Type  Price  \\\n",
       "App                                                                           \n",
       "Photo Editor & Candy Camera & Grid & ScrapBook         10000.0  Free    0.0   \n",
       "Coloring book moana                                   500000.0  Free    0.0   \n",
       "U Launcher Lite – FREE Live Cool Themes, Hide Apps   5000000.0  Free    0.0   \n",
       "Sketch - Draw & Paint                               50000000.0  Free    0.0   \n",
       "Pixel Draw - Number Art Coloring Book                 100000.0  Free    0.0   \n",
       "...                                                        ...   ...    ...   \n",
       "Sya9a Maroc - FR                                        5000.0  Free    0.0   \n",
       "Fr. Mike Schmitz Audio Teachings                         100.0  Free    0.0   \n",
       "Parkinson Exercices FR                                  1000.0  Free    0.0   \n",
       "The SCP Foundation DB fr nn5n                           1000.0  Free    0.0   \n",
       "iHoroscope - 2018 Daily Horoscope & Astrology       10000000.0  Free    0.0   \n",
       "\n",
       "                                                   Content Rating  \\\n",
       "App                                                                 \n",
       "Photo Editor & Candy Camera & Grid & ScrapBook           Everyone   \n",
       "Coloring book moana                                      Everyone   \n",
       "U Launcher Lite – FREE Live Cool Themes, Hide Apps       Everyone   \n",
       "Sketch - Draw & Paint                                        Teen   \n",
       "Pixel Draw - Number Art Coloring Book                    Everyone   \n",
       "...                                                           ...   \n",
       "Sya9a Maroc - FR                                         Everyone   \n",
       "Fr. Mike Schmitz Audio Teachings                         Everyone   \n",
       "Parkinson Exercices FR                                   Everyone   \n",
       "The SCP Foundation DB fr nn5n                          Mature 17+   \n",
       "iHoroscope - 2018 Daily Horoscope & Astrology            Everyone   \n",
       "\n",
       "                                                                       Genres  \\\n",
       "App                                                                             \n",
       "Photo Editor & Candy Camera & Grid & ScrapBook                   Art & Design   \n",
       "Coloring book moana                                 Art & Design;Pretend Play   \n",
       "U Launcher Lite – FREE Live Cool Themes, Hide Apps               Art & Design   \n",
       "Sketch - Draw & Paint                                            Art & Design   \n",
       "Pixel Draw - Number Art Coloring Book                 Art & Design;Creativity   \n",
       "...                                                                       ...   \n",
       "Sya9a Maroc - FR                                                    Education   \n",
       "Fr. Mike Schmitz Audio Teachings                                    Education   \n",
       "Parkinson Exercices FR                                                Medical   \n",
       "The SCP Foundation DB fr nn5n                               Books & Reference   \n",
       "iHoroscope - 2018 Daily Horoscope & Astrology                       Lifestyle   \n",
       "\n",
       "                                                   Last Updated  \\\n",
       "App                                                               \n",
       "Photo Editor & Candy Camera & Grid & ScrapBook       07-01-2018   \n",
       "Coloring book moana                                  15-01-2018   \n",
       "U Launcher Lite – FREE Live Cool Themes, Hide Apps   01-08-2018   \n",
       "Sketch - Draw & Paint                                08-06-2018   \n",
       "Pixel Draw - Number Art Coloring Book                20-06-2018   \n",
       "...                                                         ...   \n",
       "Sya9a Maroc - FR                                     25-07-2017   \n",
       "Fr. Mike Schmitz Audio Teachings                     06-07-2018   \n",
       "Parkinson Exercices FR                               20-01-2017   \n",
       "The SCP Foundation DB fr nn5n                        19-01-2015   \n",
       "iHoroscope - 2018 Daily Horoscope & Astrology        25-07-2018   \n",
       "\n",
       "                                                           Current Ver  \\\n",
       "App                                                                      \n",
       "Photo Editor & Candy Camera & Grid & ScrapBook                   1.0.0   \n",
       "Coloring book moana                                              2.0.0   \n",
       "U Launcher Lite – FREE Live Cool Themes, Hide Apps               1.2.4   \n",
       "Sketch - Draw & Paint                               Varies with device   \n",
       "Pixel Draw - Number Art Coloring Book                              1.1   \n",
       "...                                                                ...   \n",
       "Sya9a Maroc - FR                                                  1.48   \n",
       "Fr. Mike Schmitz Audio Teachings                                     1   \n",
       "Parkinson Exercices FR                                               1   \n",
       "The SCP Foundation DB fr nn5n                       Varies with device   \n",
       "iHoroscope - 2018 Daily Horoscope & Astrology       Varies with device   \n",
       "\n",
       "                                                           Android Ver  \n",
       "App                                                                     \n",
       "Photo Editor & Candy Camera & Grid & ScrapBook            4.0.3 and up  \n",
       "Coloring book moana                                       4.0.3 and up  \n",
       "U Launcher Lite – FREE Live Cool Themes, Hide Apps        4.0.3 and up  \n",
       "Sketch - Draw & Paint                                       4.2 and up  \n",
       "Pixel Draw - Number Art Coloring Book                       4.4 and up  \n",
       "...                                                                ...  \n",
       "Sya9a Maroc - FR                                            4.1 and up  \n",
       "Fr. Mike Schmitz Audio Teachings                            4.1 and up  \n",
       "Parkinson Exercices FR                                      2.2 and up  \n",
       "The SCP Foundation DB fr nn5n                       Varies with device  \n",
       "iHoroscope - 2018 Daily Horoscope & Astrology       Varies with device  \n",
       "\n",
       "[10841 rows x 12 columns]"
      ]
     },
     "execution_count": 39,
     "metadata": {},
     "output_type": "execute_result"
    }
   ],
   "source": [
    "file"
   ]
  },
  {
   "cell_type": "code",
   "execution_count": 40,
   "id": "b1a80de0",
   "metadata": {},
   "outputs": [
    {
     "data": {
      "text/plain": [
       "Category             0\n",
       "Rating            1474\n",
       "Reviews              1\n",
       "Size                 0\n",
       "Installs             1\n",
       "Type                 1\n",
       "Price                1\n",
       "Content Rating       1\n",
       "Genres               0\n",
       "Last Updated         1\n",
       "Current Ver          8\n",
       "Android Ver          3\n",
       "dtype: int64"
      ]
     },
     "execution_count": 40,
     "metadata": {},
     "output_type": "execute_result"
    }
   ],
   "source": [
    "file.isnull().sum()"
   ]
  },
  {
   "cell_type": "code",
   "execution_count": 73,
   "id": "f391e70d",
   "metadata": {},
   "outputs": [
    {
     "name": "stdout",
     "output_type": "stream",
     "text": [
      "<class 'pandas.core.frame.DataFrame'>\n",
      "Index: 9920 entries, Photo Editor & Candy Camera & Grid & ScrapBook to iHoroscope - 2018 Daily Horoscope & Astrology\n",
      "Data columns (total 12 columns):\n",
      " #   Column          Non-Null Count  Dtype  \n",
      "---  ------          --------------  -----  \n",
      " 0   Category        9920 non-null   object \n",
      " 1   Rating          8483 non-null   float64\n",
      " 2   Reviews         9919 non-null   float64\n",
      " 3   Size            9920 non-null   object \n",
      " 4   Installs        9919 non-null   float64\n",
      " 5   Type            9919 non-null   object \n",
      " 6   Price           9919 non-null   float64\n",
      " 7   Content Rating  9919 non-null   object \n",
      " 8   Genres          9920 non-null   object \n",
      " 9   Last Updated    9919 non-null   object \n",
      " 10  Current Ver     9912 non-null   object \n",
      " 11  Android Ver     9917 non-null   object \n",
      "dtypes: float64(4), object(8)\n",
      "memory usage: 1007.5+ KB\n"
     ]
    }
   ],
   "source": [
    "file.drop_duplicates(keep=False,inplace=True)\n",
    "file.info()"
   ]
  },
  {
   "cell_type": "code",
   "execution_count": 74,
   "id": "db253afc",
   "metadata": {},
   "outputs": [
    {
     "name": "stdout",
     "output_type": "stream",
     "text": [
      "['ART_AND_DESIGN' 'AUTO_AND_VEHICLES' 'BEAUTY' 'BOOKS_AND_REFERENCE'\n",
      " 'BUSINESS' 'COMICS' 'COMMUNICATION' 'DATING' 'EDUCATION' 'ENTERTAINMENT'\n",
      " 'EVENTS' 'FINANCE' 'FOOD_AND_DRINK' 'HEALTH_AND_FITNESS' 'HOUSE_AND_HOME'\n",
      " 'LIBRARIES_AND_DEMO' 'LIFESTYLE' 'GAME' 'FAMILY' 'MEDICAL' 'SOCIAL'\n",
      " 'SHOPPING' 'PHOTOGRAPHY' 'SPORTS' 'TRAVEL_AND_LOCAL' 'TOOLS'\n",
      " 'PERSONALIZATION' 'PRODUCTIVITY' 'PARENTING' 'WEATHER' 'VIDEO_PLAYERS'\n",
      " 'NEWS_AND_MAGAZINES' 'MAPS_AND_NAVIGATION' '1.9']\n"
     ]
    },
    {
     "data": {
      "text/html": [
       "<div>\n",
       "<style scoped>\n",
       "    .dataframe tbody tr th:only-of-type {\n",
       "        vertical-align: middle;\n",
       "    }\n",
       "\n",
       "    .dataframe tbody tr th {\n",
       "        vertical-align: top;\n",
       "    }\n",
       "\n",
       "    .dataframe thead th {\n",
       "        text-align: right;\n",
       "    }\n",
       "</style>\n",
       "<table border=\"1\" class=\"dataframe\">\n",
       "  <thead>\n",
       "    <tr style=\"text-align: right;\">\n",
       "      <th></th>\n",
       "      <th>Category</th>\n",
       "      <th>Rating</th>\n",
       "      <th>Reviews</th>\n",
       "      <th>Size</th>\n",
       "      <th>Installs</th>\n",
       "      <th>Type</th>\n",
       "      <th>Price</th>\n",
       "      <th>Content Rating</th>\n",
       "      <th>Genres</th>\n",
       "      <th>Last Updated</th>\n",
       "      <th>Current Ver</th>\n",
       "      <th>Android Ver</th>\n",
       "    </tr>\n",
       "    <tr>\n",
       "      <th>App</th>\n",
       "      <th></th>\n",
       "      <th></th>\n",
       "      <th></th>\n",
       "      <th></th>\n",
       "      <th></th>\n",
       "      <th></th>\n",
       "      <th></th>\n",
       "      <th></th>\n",
       "      <th></th>\n",
       "      <th></th>\n",
       "      <th></th>\n",
       "      <th></th>\n",
       "    </tr>\n",
       "  </thead>\n",
       "  <tbody>\n",
       "    <tr>\n",
       "      <th>Life Made WI-Fi Touchscreen Photo Frame</th>\n",
       "      <td>1.9</td>\n",
       "      <td>19.0</td>\n",
       "      <td>NaN</td>\n",
       "      <td>1,000+</td>\n",
       "      <td>NaN</td>\n",
       "      <td>0</td>\n",
       "      <td>NaN</td>\n",
       "      <td>NaN</td>\n",
       "      <td>February 11, 2018</td>\n",
       "      <td>NaN</td>\n",
       "      <td>4.0 and up</td>\n",
       "      <td>NaN</td>\n",
       "    </tr>\n",
       "  </tbody>\n",
       "</table>\n",
       "</div>"
      ],
      "text/plain": [
       "                                        Category  Rating  Reviews    Size  \\\n",
       "App                                                                         \n",
       "Life Made WI-Fi Touchscreen Photo Frame      1.9    19.0      NaN  1,000+   \n",
       "\n",
       "                                         Installs Type  Price Content Rating  \\\n",
       "App                                                                            \n",
       "Life Made WI-Fi Touchscreen Photo Frame       NaN    0    NaN            NaN   \n",
       "\n",
       "                                                    Genres Last Updated  \\\n",
       "App                                                                       \n",
       "Life Made WI-Fi Touchscreen Photo Frame  February 11, 2018          NaN   \n",
       "\n",
       "                                        Current Ver Android Ver  \n",
       "App                                                              \n",
       "Life Made WI-Fi Touchscreen Photo Frame  4.0 and up         NaN  "
      ]
     },
     "execution_count": 74,
     "metadata": {},
     "output_type": "execute_result"
    }
   ],
   "source": [
    "#category column\n",
    "print(file['Category'].unique())\n",
    "file[file['Category']=='1.9']"
   ]
  },
  {
   "cell_type": "code",
   "execution_count": 75,
   "id": "d427e7e1",
   "metadata": {},
   "outputs": [
    {
     "name": "stdout",
     "output_type": "stream",
     "text": [
      "['ART_AND_DESIGN' 'AUTO_AND_VEHICLES' 'BEAUTY' 'BOOKS_AND_REFERENCE'\n",
      " 'BUSINESS' 'COMICS' 'COMMUNICATION' 'DATING' 'EDUCATION' 'ENTERTAINMENT'\n",
      " 'EVENTS' 'FINANCE' 'FOOD_AND_DRINK' 'HEALTH_AND_FITNESS' 'HOUSE_AND_HOME'\n",
      " 'LIBRARIES_AND_DEMO' 'LIFESTYLE' 'GAME' 'FAMILY' 'MEDICAL' 'SOCIAL'\n",
      " 'SHOPPING' 'PHOTOGRAPHY' 'SPORTS' 'TRAVEL_AND_LOCAL' 'TOOLS'\n",
      " 'PERSONALIZATION' 'PRODUCTIVITY' 'PARENTING' 'WEATHER' 'VIDEO_PLAYERS'\n",
      " 'NEWS_AND_MAGAZINES' 'MAPS_AND_NAVIGATION']\n"
     ]
    }
   ],
   "source": [
    "file.drop(\"Life Made WI-Fi Touchscreen Photo Frame\",inplace=True)\n",
    "print(file['Category'].unique())"
   ]
  },
  {
   "cell_type": "code",
   "execution_count": 44,
   "id": "d9b606cd",
   "metadata": {},
   "outputs": [
    {
     "name": "stdout",
     "output_type": "stream",
     "text": [
      "[4.1 3.9 4.7 4.5 4.3 4.4 3.8 4.2 4.6 3.2 4.  nan 4.8 4.9 3.6 3.7 3.3 3.4\n",
      " 3.5 3.1 5.  2.6 3.  2.5 1.  1.9 2.9 2.8 2.3 2.2 1.7 2.  1.8 2.7 2.4 1.6\n",
      " 2.1 1.4 1.5 1.2]\n",
      "Empty DataFrame\n",
      "Columns: [Category, Rating, Reviews, Size, Installs, Type, Price, Content Rating, Genres, Last Updated, Current Ver, Android Ver]\n",
      "Index: []\n"
     ]
    }
   ],
   "source": [
    "#category column\n",
    "print(file['Rating'].unique())\n",
    "print(file[file['Rating']=='nan'])"
   ]
  },
  {
   "cell_type": "code",
   "execution_count": 18,
   "id": "b5fb9744",
   "metadata": {},
   "outputs": [
    {
     "name": "stdout",
     "output_type": "stream",
     "text": [
      "[1.59000e+02 9.67000e+02 8.75100e+04 ... 6.03000e+02 1.19500e+03\n",
      " 3.98307e+05]\n",
      "Empty DataFrame\n",
      "Columns: [Category, Rating, Reviews, Size, Installs, Type, Price, Content Rating, Genres, Last Updated, Current Ver, Android Ver]\n",
      "Index: []\n"
     ]
    }
   ],
   "source": [
    "print(file['Reviews'].unique())\n",
    "print(file[file['Reviews']=='nan'])"
   ]
  },
  {
   "cell_type": "code",
   "execution_count": 14,
   "id": "0d25b87b",
   "metadata": {},
   "outputs": [
    {
     "name": "stdout",
     "output_type": "stream",
     "text": [
      "['19M' '14M' '8.7M' '25M' '2.8M' '5.6M' '29M' '33M' '3.1M' '28M' '12M'\n",
      " '20M' '21M' '37M' '2.7M' '5.5M' '17M' '39M' '31M' '4.2M' '7.0M' '23M'\n",
      " '6.0M' '6.1M' '4.6M' '9.2M' '5.2M' '11M' '24M' 'Varies with device'\n",
      " '9.4M' '15M' '10M' '1.2M' '26M' '8.0M' '7.9M' '56M' '57M' '35M' '54M'\n",
      " '201k' '3.6M' '5.7M' '8.6M' '2.4M' '27M' '2.5M' '16M' '3.4M' '8.9M'\n",
      " '3.9M' '2.9M' '38M' '32M' '5.4M' '18M' '1.1M' '2.2M' '4.5M' '9.8M' '52M'\n",
      " '9.0M' '6.7M' '30M' '2.6M' '7.1M' '3.7M' '22M' '7.4M' '6.4M' '3.2M'\n",
      " '8.2M' '9.9M' '4.9M' '9.5M' '5.0M' '5.9M' '13M' '73M' '6.8M' '3.5M'\n",
      " '4.0M' '2.3M' '7.2M' '2.1M' '42M' '7.3M' '9.1M' '55M' '23k' '6.5M' '1.5M'\n",
      " '7.5M' '46M' '8.3M' '4.3M' '4.7M' '3.3M' '40M' '7.8M' '8.8M' '6.6M'\n",
      " '5.1M' '61M' '66M' '79k' '8.4M' '118k' '44M' '695k' '1.6M' '6.2M' '18k'\n",
      " '53M' '1.4M' '3.0M' '5.8M' '3.8M' '9.6M' '45M' '63M' '49M' '4.4M' '70M'\n",
      " '6.9M' '9.3M' '10.0M' '8.1M' '36M' '41M' '51M' '84M' '97M' '2.0M' '1.9M'\n",
      " '1.8M' '5.3M' '48M' '47M' '556k' '526k' '76M' '7.6M' '59M' '9.7M' '78M'\n",
      " '8.5M' '72M' '43M' '7.7M' '77M' '6.3M' '334k' '34M' '93M' '65M' '79M'\n",
      " '100M' '58M' '50M' '68M' '64M' '94M' '232k' '99M' '624k' '95M' '8.5k'\n",
      " '41k' '292k' '11k' '80M' '1.7M' '67M' '74M' '62M' '69M' '75M' '85M' '82M'\n",
      " '96M' '87M' '60M' '71M' '98M' '86M' '91M' '81M' '92M' '83M' '88M' '862k'\n",
      " '899k' '378k' '266k' '375k' '1.3M' '975k' '980k' '4.1M' '89M' '696k'\n",
      " '544k' '525k' '920k' '779k' '853k' '720k' '713k' '4.8M' '772k' '318k'\n",
      " '58k' '241k' '196k' '857k' '51k' '953k' '865k' '251k' '930k' '540k'\n",
      " '313k' '746k' '203k' '26k' '314k' '239k' '371k' '220k' '730k' '756k'\n",
      " '91k' '293k' '17k' '74k' '14k' '317k' '78k' '924k' '902k' '818k' '81k'\n",
      " '939k' '169k' '45k' '475k' '965k' '90M' '545k' '61k' '283k' '655k' '714k'\n",
      " '93k' '872k' '121k' '322k' '1.0M' '976k' '172k' '238k' '549k' '206k'\n",
      " '954k' '444k' '717k' '210k' '609k' '308k' '705k' '306k' '904k' '473k'\n",
      " '175k' '350k' '383k' '454k' '421k' '70k' '812k' '442k' '842k' '417k'\n",
      " '412k' '459k' '478k' '335k' '782k' '721k' '430k' '429k' '192k' '200k'\n",
      " '460k' '728k' '496k' '816k' '414k' '506k' '887k' '613k' '243k' '569k'\n",
      " '778k' '683k' '592k' '319k' '186k' '840k' '647k' '191k' '373k' '437k'\n",
      " '598k' '716k' '585k' '982k' '222k' '219k' '55k' '948k' '323k' '691k'\n",
      " '511k' '951k' '963k' '25k' '554k' '351k' '27k' '82k' '208k' '913k' '514k'\n",
      " '551k' '29k' '103k' '898k' '743k' '116k' '153k' '209k' '353k' '499k'\n",
      " '173k' '597k' '809k' '122k' '411k' '400k' '801k' '787k' '237k' '50k'\n",
      " '643k' '986k' '97k' '516k' '837k' '780k' '961k' '269k' '20k' '498k'\n",
      " '600k' '749k' '642k' '881k' '72k' '656k' '601k' '221k' '228k' '108k'\n",
      " '940k' '176k' '33k' '663k' '34k' '942k' '259k' '164k' '458k' '245k'\n",
      " '629k' '28k' '288k' '775k' '785k' '636k' '916k' '994k' '309k' '485k'\n",
      " '914k' '903k' '608k' '500k' '54k' '562k' '847k' '957k' '688k' '811k'\n",
      " '270k' '48k' '329k' '523k' '921k' '874k' '981k' '784k' '280k' '24k'\n",
      " '518k' '754k' '892k' '154k' '860k' '364k' '387k' '626k' '161k' '879k'\n",
      " '39k' '970k' '170k' '141k' '160k' '144k' '143k' '190k' '376k' '193k'\n",
      " '246k' '73k' '658k' '992k' '253k' '420k' '404k' '1,000+' '470k' '226k'\n",
      " '240k' '89k' '234k' '257k' '861k' '467k' '157k' '44k' '676k' '67k' '552k'\n",
      " '885k' '1020k' '582k' '619k']\n",
      "Empty DataFrame\n",
      "Columns: [App, Category, Rating, Reviews, Size, Installs, Type, Price, Content Rating, Genres, Last Updated, Current Ver, Android Ver]\n",
      "Index: []\n"
     ]
    }
   ],
   "source": [
    "print(file['Size'].unique())\n",
    "print(file[file['Size']=='nan'])"
   ]
  },
  {
   "cell_type": "code",
   "execution_count": 15,
   "id": "d2390ae0",
   "metadata": {},
   "outputs": [
    {
     "name": "stdout",
     "output_type": "stream",
     "text": [
      "[1.e+04 5.e+05 5.e+06 5.e+07 1.e+05 5.e+04 1.e+06 1.e+07 5.e+03 1.e+08\n",
      " 1.e+09 1.e+03 5.e+08 5.e+01 1.e+02 5.e+02 1.e+01 1.e+00 5.e+00 0.e+00\n",
      "    nan]\n",
      "Empty DataFrame\n",
      "Columns: [App, Category, Rating, Reviews, Size, Installs, Type, Price, Content Rating, Genres, Last Updated, Current Ver, Android Ver]\n",
      "Index: []\n"
     ]
    }
   ],
   "source": [
    "print(file['Installs'].unique())\n",
    "print(file[file['Installs']=='nan'])"
   ]
  },
  {
   "cell_type": "code",
   "execution_count": 16,
   "id": "1953ecdc",
   "metadata": {},
   "outputs": [
    {
     "name": "stdout",
     "output_type": "stream",
     "text": [
      "['Free' 'Paid' nan '0']\n",
      "Empty DataFrame\n",
      "Columns: [App, Category, Rating, Reviews, Size, Installs, Type, Price, Content Rating, Genres, Last Updated, Current Ver, Android Ver]\n",
      "Index: []\n"
     ]
    }
   ],
   "source": [
    "print(file['Type'].unique())\n",
    "print(file[file['Type']=='nan'])"
   ]
  },
  {
   "cell_type": "code",
   "execution_count": 17,
   "id": "57e10fa7",
   "metadata": {},
   "outputs": [
    {
     "name": "stdout",
     "output_type": "stream",
     "text": [
      "[  0.     3.99   6.99   1.49   2.99   7.99   5.99   4.99   3.49   1.99\n",
      "   9.99   7.49   0.99   1.     2.49  10.99   1.5   14.99  15.99  74.99\n",
      "  39.99   3.95  29.99   4.49   1.7    8.99   2.     3.88  25.99 399.99\n",
      "  17.99 400.     3.02   1.76   4.84   4.77   1.61   2.5   19.99   1.59\n",
      "   6.49   1.29   5.    13.99 299.99 379.99  37.99  18.99 389.99  19.9\n",
      "   8.49   1.75  11.99  14.     4.85  46.99   5.49 109.99 154.99   3.08\n",
      "   2.59   4.8    1.96  19.4    3.9    4.59  15.46  10.     3.04  12.99\n",
      "   4.29   2.6    3.28   4.6   28.99   2.95   2.9    1.97  24.99 200.\n",
      "  89.99   2.56  30.99   3.61 394.99   1.26    nan  16.99   1.2    1.04]\n",
      "Empty DataFrame\n",
      "Columns: [App, Category, Rating, Reviews, Size, Installs, Type, Price, Content Rating, Genres, Last Updated, Current Ver, Android Ver]\n",
      "Index: []\n"
     ]
    }
   ],
   "source": [
    "print(file['Price'].unique())\n",
    "print(file[file['Price']=='nan'])"
   ]
  },
  {
   "cell_type": "code",
   "execution_count": 18,
   "id": "227d1c74",
   "metadata": {},
   "outputs": [
    {
     "name": "stdout",
     "output_type": "stream",
     "text": [
      "['Everyone' 'Teen' 'Everyone 10+' 'Mature 17+' 'Adults only 18+' 'Unrated'\n",
      " nan]\n"
     ]
    }
   ],
   "source": [
    "print(file['Content Rating'].unique())\n"
   ]
  },
  {
   "cell_type": "code",
   "execution_count": 21,
   "id": "8c48f287",
   "metadata": {},
   "outputs": [
    {
     "name": "stdout",
     "output_type": "stream",
     "text": [
      "['Art & Design' 'Art & Design;Pretend Play' 'Art & Design;Creativity'\n",
      " 'Art & Design;Action & Adventure' 'Auto & Vehicles' 'Beauty'\n",
      " 'Books & Reference' 'Business' 'Comics' 'Comics;Creativity'\n",
      " 'Communication' 'Dating' 'Education;Education' 'Education'\n",
      " 'Education;Creativity' 'Education;Music & Video'\n",
      " 'Education;Action & Adventure' 'Education;Pretend Play'\n",
      " 'Education;Brain Games' 'Entertainment' 'Entertainment;Music & Video'\n",
      " 'Entertainment;Brain Games' 'Entertainment;Creativity' 'Events' 'Finance'\n",
      " 'Food & Drink' 'Health & Fitness' 'House & Home' 'Libraries & Demo'\n",
      " 'Lifestyle' 'Lifestyle;Pretend Play' 'Adventure;Action & Adventure'\n",
      " 'Arcade' 'Casual' 'Card' 'Casual;Pretend Play' 'Action' 'Strategy'\n",
      " 'Puzzle' 'Sports' 'Music' 'Word' 'Racing' 'Casual;Creativity'\n",
      " 'Casual;Action & Adventure' 'Simulation' 'Adventure' 'Board' 'Trivia'\n",
      " 'Role Playing' 'Simulation;Education' 'Action;Action & Adventure'\n",
      " 'Casual;Brain Games' 'Simulation;Action & Adventure'\n",
      " 'Educational;Creativity' 'Puzzle;Brain Games' 'Educational;Education'\n",
      " 'Card;Brain Games' 'Educational;Brain Games' 'Educational;Pretend Play'\n",
      " 'Entertainment;Education' 'Casual;Education' 'Music;Music & Video'\n",
      " 'Racing;Action & Adventure' 'Arcade;Pretend Play'\n",
      " 'Role Playing;Action & Adventure' 'Simulation;Pretend Play'\n",
      " 'Puzzle;Creativity' 'Sports;Action & Adventure'\n",
      " 'Educational;Action & Adventure' 'Arcade;Action & Adventure'\n",
      " 'Entertainment;Action & Adventure' 'Puzzle;Action & Adventure'\n",
      " 'Strategy;Action & Adventure' 'Music & Audio;Music & Video'\n",
      " 'Health & Fitness;Education' 'Adventure;Education' 'Board;Brain Games'\n",
      " 'Board;Action & Adventure' 'Board;Pretend Play' 'Casual;Music & Video'\n",
      " 'Role Playing;Pretend Play' 'Entertainment;Pretend Play'\n",
      " 'Video Players & Editors;Creativity' 'Card;Action & Adventure' 'Medical'\n",
      " 'Social' 'Shopping' 'Photography' 'Travel & Local'\n",
      " 'Travel & Local;Action & Adventure' 'Tools' 'Tools;Education'\n",
      " 'Personalization' 'Productivity' 'Parenting' 'Parenting;Music & Video'\n",
      " 'Parenting;Education' 'Parenting;Brain Games' 'Weather'\n",
      " 'Video Players & Editors' 'Video Players & Editors;Music & Video'\n",
      " 'News & Magazines' 'Maps & Navigation'\n",
      " 'Health & Fitness;Action & Adventure' 'Educational' 'Casino'\n",
      " 'Adventure;Brain Games' 'Trivia;Education' 'Lifestyle;Education'\n",
      " 'Books & Reference;Creativity' 'Books & Reference;Education'\n",
      " 'Puzzle;Education' 'Role Playing;Education' 'Role Playing;Brain Games'\n",
      " 'Strategy;Education' 'Racing;Pretend Play' 'Communication;Creativity'\n",
      " 'Strategy;Creativity']\n"
     ]
    }
   ],
   "source": [
    "print(file['Genres'].unique())"
   ]
  },
  {
   "cell_type": "code",
   "execution_count": 20,
   "id": "aeee74ed",
   "metadata": {},
   "outputs": [
    {
     "name": "stdout",
     "output_type": "stream",
     "text": [
      "['07-01-2018' '15-01-2018' '01-08-2018' ... '20-01-2014' '16-02-2014'\n",
      " '23-03-2014']\n"
     ]
    }
   ],
   "source": [
    "print(file['Last Updated'].unique())"
   ]
  },
  {
   "cell_type": "code",
   "execution_count": 21,
   "id": "58195130",
   "metadata": {},
   "outputs": [
    {
     "name": "stdout",
     "output_type": "stream",
     "text": [
      "['1.0.0' '2.0.0' '1.2.4' ... '1.0.612928' '0.3.4' '2.0.148.0']\n"
     ]
    }
   ],
   "source": [
    "print(file['Current Ver'].unique())"
   ]
  },
  {
   "cell_type": "code",
   "execution_count": 68,
   "id": "5ab251a5",
   "metadata": {},
   "outputs": [
    {
     "name": "stdout",
     "output_type": "stream",
     "text": [
      "['4.0.3 and up' '4.2 and up' '4.4 and up' '2.3 and up' '3.0 and up'\n",
      " '4.1 and up' '4.0 and up' '2.3.3 and up' 'Varies with device'\n",
      " '2.2 and up' '5.0 and up' '6.0 and up' '1.6 and up' '1.5 and up'\n",
      " '2.1 and up' '7.0 and up' '5.1 and up' '4.3 and up' '4.0.3 - 7.1.1'\n",
      " '2.0 and up' '3.2 and up' '4.4W and up' '7.1 and up' '7.0 - 7.1.1'\n",
      " '8.0 and up' '5.0 - 8.0' '3.1 and up' '2.0.1 and up' '4.1 - 7.1.1' nan\n",
      " '5.0 - 6.0' '1.0 and up' '2.2 - 7.1.1' '5.0 - 7.1.1']\n",
      "10841\n"
     ]
    }
   ],
   "source": [
    "print(file['Android Ver'].unique())\n",
    "print(file[\"Android Ver\"].size)"
   ]
  },
  {
   "cell_type": "code",
   "execution_count": 70,
   "id": "d330a0de",
   "metadata": {},
   "outputs": [],
   "source": [
    "file = file[file['Android Ver'] != \"4.4W and up\"]"
   ]
  },
  {
   "cell_type": "code",
   "execution_count": 71,
   "id": "335d87a4",
   "metadata": {},
   "outputs": [
    {
     "name": "stdout",
     "output_type": "stream",
     "text": [
      "['4.0.3 and up' '4.2 and up' '4.4 and up' '2.3 and up' '3.0 and up'\n",
      " '4.1 and up' '4.0 and up' '2.3.3 and up' 'Varies with device'\n",
      " '2.2 and up' '5.0 and up' '6.0 and up' '1.6 and up' '1.5 and up'\n",
      " '2.1 and up' '7.0 and up' '5.1 and up' '4.3 and up' '4.0.3 - 7.1.1'\n",
      " '2.0 and up' '3.2 and up' '7.1 and up' '7.0 - 7.1.1' '8.0 and up'\n",
      " '5.0 - 8.0' '3.1 and up' '2.0.1 and up' '4.1 - 7.1.1' nan '5.0 - 6.0'\n",
      " '1.0 and up' '2.2 - 7.1.1' '5.0 - 7.1.1']\n",
      "10829\n"
     ]
    }
   ],
   "source": [
    "print(file['Android Ver'].unique())\n",
    "print(file[\"Android Ver\"].size)"
   ]
  },
  {
   "cell_type": "code",
   "execution_count": 76,
   "id": "b0f51a6d",
   "metadata": {},
   "outputs": [
    {
     "data": {
      "text/plain": [
       "Category             0\n",
       "Rating            1437\n",
       "Reviews              0\n",
       "Size                 0\n",
       "Installs             0\n",
       "Type                 1\n",
       "Price                0\n",
       "Content Rating       0\n",
       "Genres               0\n",
       "Last Updated         0\n",
       "Current Ver          8\n",
       "Android Ver          2\n",
       "dtype: int64"
      ]
     },
     "execution_count": 76,
     "metadata": {},
     "output_type": "execute_result"
    }
   ],
   "source": [
    "file.isnull().sum()"
   ]
  },
  {
   "cell_type": "code",
   "execution_count": 77,
   "id": "f79aa319",
   "metadata": {},
   "outputs": [
    {
     "name": "stdout",
     "output_type": "stream",
     "text": [
      "<class 'pandas.core.frame.DataFrame'>\n",
      "Index: 9919 entries, Photo Editor & Candy Camera & Grid & ScrapBook to iHoroscope - 2018 Daily Horoscope & Astrology\n",
      "Data columns (total 12 columns):\n",
      " #   Column          Non-Null Count  Dtype  \n",
      "---  ------          --------------  -----  \n",
      " 0   Category        9919 non-null   object \n",
      " 1   Rating          8482 non-null   float64\n",
      " 2   Reviews         9919 non-null   float64\n",
      " 3   Size            9919 non-null   object \n",
      " 4   Installs        9919 non-null   float64\n",
      " 5   Type            9918 non-null   object \n",
      " 6   Price           9919 non-null   float64\n",
      " 7   Content Rating  9919 non-null   object \n",
      " 8   Genres          9919 non-null   object \n",
      " 9   Last Updated    9919 non-null   object \n",
      " 10  Current Ver     9911 non-null   object \n",
      " 11  Android Ver     9917 non-null   object \n",
      "dtypes: float64(4), object(8)\n",
      "memory usage: 1007.4+ KB\n"
     ]
    }
   ],
   "source": [
    "file.info()"
   ]
  },
  {
   "cell_type": "code",
   "execution_count": 78,
   "id": "2e35a025",
   "metadata": {},
   "outputs": [],
   "source": [
    "file.to_csv(\"cleaned_file.csv\")"
   ]
  },
  {
   "cell_type": "code",
   "execution_count": null,
   "id": "fd10fefb",
   "metadata": {},
   "outputs": [],
   "source": []
  }
 ],
 "metadata": {
  "kernelspec": {
   "display_name": "Python 3 (ipykernel)",
   "language": "python",
   "name": "python3"
  },
  "language_info": {
   "codemirror_mode": {
    "name": "ipython",
    "version": 3
   },
   "file_extension": ".py",
   "mimetype": "text/x-python",
   "name": "python",
   "nbconvert_exporter": "python",
   "pygments_lexer": "ipython3",
   "version": "3.9.12"
  }
 },
 "nbformat": 4,
 "nbformat_minor": 5
}
