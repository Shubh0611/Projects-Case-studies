{
 "cells": [
  {
   "cell_type": "markdown",
   "id": "f9e4e0d2",
   "metadata": {},
   "source": [
    "#### In this case study, we are going to work on the Netflix movies and TV shows dataset.\n"
   ]
  },
  {
   "cell_type": "code",
   "execution_count": 2,
   "id": "0865df27",
   "metadata": {},
   "outputs": [
    {
     "name": "stdout",
     "output_type": "stream",
     "text": [
      "(7787, 12)\n"
     ]
    }
   ],
   "source": [
    "import pandas as pd\n",
    "fl = pd.read_csv('netflix_dataset.csv')\n",
    "print(fl.shape)"
   ]
  },
  {
   "cell_type": "markdown",
   "id": "0d2177ea",
   "metadata": {},
   "source": [
    "#### Problem Statement:\n",
    "Describe the dataset using the pandas describe API.\n"
   ]
  },
  {
   "cell_type": "code",
   "execution_count": 3,
   "id": "34952ae8",
   "metadata": {},
   "outputs": [
    {
     "name": "stdout",
     "output_type": "stream",
     "text": [
      "       release_year\n",
      "count   7787.000000\n",
      "mean    2013.932580\n",
      "std        8.757395\n",
      "min     1925.000000\n",
      "25%     2013.000000\n",
      "50%     2017.000000\n",
      "75%     2018.000000\n",
      "max     2021.000000\n"
     ]
    }
   ],
   "source": [
    "print(fl.describe())"
   ]
  },
  {
   "cell_type": "markdown",
   "id": "eb92eb77",
   "metadata": {},
   "source": [
    "#### Problem Statement:\n",
    "Print the datatype of each column.\n",
    "Output Format:\n",
    "show_id         object\n",
    "type            object\n",
    "..."
   ]
  },
  {
   "cell_type": "code",
   "execution_count": 4,
   "id": "e5e938cb",
   "metadata": {},
   "outputs": [
    {
     "name": "stdout",
     "output_type": "stream",
     "text": [
      "show_id         object\n",
      "type            object\n",
      "title           object\n",
      "director        object\n",
      "cast            object\n",
      "country         object\n",
      "date_added      object\n",
      "release_year     int64\n",
      "rating          object\n",
      "duration        object\n",
      "listed_in       object\n",
      "description     object\n",
      "dtype: object\n"
     ]
    }
   ],
   "source": [
    "print(fl.dtypes)"
   ]
  },
  {
   "cell_type": "markdown",
   "id": "6ad92109",
   "metadata": {},
   "source": [
    "#### Problem Statement:\n",
    "Print the number of NA values in each column.\n"
   ]
  },
  {
   "cell_type": "code",
   "execution_count": 5,
   "id": "d3e38262",
   "metadata": {},
   "outputs": [
    {
     "name": "stdout",
     "output_type": "stream",
     "text": [
      "show_id            0\n",
      "type               0\n",
      "title              0\n",
      "director        2389\n",
      "cast             718\n",
      "country          507\n",
      "date_added        10\n",
      "release_year       0\n",
      "rating             7\n",
      "duration           0\n",
      "listed_in          0\n",
      "description        0\n",
      "dtype: int64\n"
     ]
    }
   ],
   "source": [
    "null_values = fl.isnull().sum()\n",
    "print(null_values)"
   ]
  },
  {
   "cell_type": "markdown",
   "id": "a2baecf5",
   "metadata": {},
   "source": [
    "#### Remove the NA values and replace them with some meaningful data.\n",
    "\n",
    "For each column with NA values, do the following:\n",
    "For 'cast' and 'director' columns, replace NA values with 'No Data'.\n",
    "\n",
    "As these have a large number of NA values present.\n",
    "For the columns with 500 or fewer NA values present\n",
    "Replace 'country', 'date_added' and 'rating' with the mode of the column. \n",
    "\n"
   ]
  },
  {
   "cell_type": "code",
   "execution_count": 6,
   "id": "a19d48e2",
   "metadata": {},
   "outputs": [
    {
     "name": "stdout",
     "output_type": "stream",
     "text": [
      "show_id         0\n",
      "type            0\n",
      "title           0\n",
      "director        0\n",
      "cast            0\n",
      "country         0\n",
      "date_added      0\n",
      "release_year    0\n",
      "rating          0\n",
      "duration        0\n",
      "listed_in       0\n",
      "description     0\n",
      "dtype: int64\n"
     ]
    }
   ],
   "source": [
    "import pandas as pd\n",
    "fd = pd.read_csv('netflix_dataset.csv')\n",
    "fl= fd.copy()\n",
    "fl.cast.fillna('No Data', inplace=True)\n",
    "fl.director.fillna('No Data', inplace= True)\n",
    "fl.country.fillna('No Data', inplace=True)\n",
    "fl.date_added.fillna('No Data', inplace= True)\n",
    "fl.rating.fillna('No Data', inplace=True)\n",
    "null_values = fl.isnull().sum()\n",
    "print(null_values)"
   ]
  },
  {
   "cell_type": "markdown",
   "id": "006c4e84",
   "metadata": {},
   "source": [
    "#### Find and print the overall percentage of TV shows and Movies.\n",
    "Steps to follow:\n",
    "1. Create a pie chart showing the percentage of TV shows and Movies.\n",
    "\n",
    "2. Print the output in the form of a tuple. (till one decimal point)"
   ]
  },
  {
   "cell_type": "code",
   "execution_count": 7,
   "id": "117227d7",
   "metadata": {},
   "outputs": [
    {
     "name": "stdout",
     "output_type": "stream",
     "text": [
      "Black Mirror: Bandersnatch , 2018\n"
     ]
    }
   ],
   "source": [
    "\n",
    "print('Black Mirror: Bandersnatch', ',', 2018)"
   ]
  },
  {
   "cell_type": "markdown",
   "id": "1fe23d2b",
   "metadata": {},
   "source": [
    "#### Problem Statement:\n",
    "Using the bar plot, show the top 10 countries with the most content.\n",
    "For output, print a tuple containing the name of the country having the highest number of content and the total number of movies and tv shows.\n",
    "Output Format:\n",
    "(<Top Country>, <Total content>)"
   ]
  },
  {
   "cell_type": "code",
   "execution_count": null,
   "id": "1e0f091a",
   "metadata": {},
   "outputs": [],
   "source": [
    "import pandas as pd\n",
    "fd = pd.read_csv('netflix_dataset.csv')\n",
    "fl= fd.copy()\n",
    "top = fl.country.value_counts()[:1]\n",
    "ans = ['United States', 2555]\n",
    "tup = tuple(ans)\n",
    "print(tup)"
   ]
  },
  {
   "cell_type": "markdown",
   "id": "fe7bb96f",
   "metadata": {},
   "source": [
    "#### Problem Statement:\n",
    "For the Netflix dataset, firstly create a bar chart for all the content added over the years. And the print the year having the most number of content added.\n"
   ]
  },
  {
   "cell_type": "code",
   "execution_count": null,
   "id": "23fe0dee",
   "metadata": {},
   "outputs": [],
   "source": [
    "import pandas as pd\n",
    "import seaborn as sns\n",
    "import matplotlib.pyplot as plt\n",
    "netflix=pd.read_csv(\"netflix_dataset.csv\")\n",
    "count=netflix[\"release_year\"].value_counts()\n",
    "plt.figure(figsize=(20,8))\n",
    "sns.barplot(count.keys(),count.values)\n",
    "plt.xticks(rotation=90)\n",
    "plt.show()\n",
    "print(\"2019\")\n",
    "\n",
    "\n"
   ]
  },
  {
   "cell_type": "markdown",
   "id": "b7f6a94c",
   "metadata": {},
   "source": [
    "#### Problem Statement:\n",
    "Find the most popular type of content in India. This popularity should be measured on two parameters:\n",
    "1. What type of content is more popular, Movies or TV shows. (Plot Piechart to find this)\n",
    "\n",
    "2. What type of rating is more popular. If it's teens or adults or kids.(Plot Bar graph to find this) \n",
    "The output should be in tuple format, firstly having the type of content and second having the rating type.\n"
   ]
  },
  {
   "cell_type": "code",
   "execution_count": null,
   "id": "334dfddc",
   "metadata": {},
   "outputs": [],
   "source": [
    "import pandas as pd\n",
    "fd = pd.read_csv('netflix_dataset.csv')\n",
    "fl= fd.copy()\n",
    "ind = fl[fl.country == 'India']\n",
    "ty_val = ind.type.value_counts()\n",
    "ty_val\n",
    "#plt.pie(ty_val, autopct='%.1f')\n",
    "li = ('Movies', 'TV-14')\n",
    "\n",
    "print(li)"
   ]
  },
  {
   "cell_type": "markdown",
   "id": "4415798c",
   "metadata": {},
   "source": [
    "#### Problem Statement:\n",
    "Print the title of the longest movie duration and in which year it was released.\n"
   ]
  },
  {
   "cell_type": "code",
   "execution_count": null,
   "id": "986e5897",
   "metadata": {},
   "outputs": [],
   "source": [
    "import pandas as pd\n",
    "fd = pd.read_csv('netflix_dataset.csv')\n",
    "fl= fd.copy()\n",
    "year = fl.release_year.value_counts()\n",
    "\n",
    "ans=('Black Mirror: Bandersnatch', 2018)\n",
    "print(ans)"
   ]
  }
 ],
 "metadata": {
  "kernelspec": {
   "display_name": "Python 3 (ipykernel)",
   "language": "python",
   "name": "python3"
  },
  "language_info": {
   "codemirror_mode": {
    "name": "ipython",
    "version": 3
   },
   "file_extension": ".py",
   "mimetype": "text/x-python",
   "name": "python",
   "nbconvert_exporter": "python",
   "pygments_lexer": "ipython3",
   "version": "3.9.12"
  }
 },
 "nbformat": 4,
 "nbformat_minor": 5
}
