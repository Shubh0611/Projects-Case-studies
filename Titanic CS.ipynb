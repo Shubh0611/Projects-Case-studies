{
 "cells": [
  {
   "cell_type": "code",
   "execution_count": null,
   "id": "474f16c4",
   "metadata": {},
   "outputs": [],
   "source": []
  },
  {
   "cell_type": "code",
   "execution_count": 2,
   "id": "1d6ae7f1",
   "metadata": {},
   "outputs": [],
   "source": [
    "import pandas as pd"
   ]
  },
  {
   "cell_type": "code",
   "execution_count": 6,
   "id": "b5ccb8ba",
   "metadata": {},
   "outputs": [
    {
     "data": {
      "text/html": [
       "<div>\n",
       "<style scoped>\n",
       "    .dataframe tbody tr th:only-of-type {\n",
       "        vertical-align: middle;\n",
       "    }\n",
       "\n",
       "    .dataframe tbody tr th {\n",
       "        vertical-align: top;\n",
       "    }\n",
       "\n",
       "    .dataframe thead th {\n",
       "        text-align: right;\n",
       "    }\n",
       "</style>\n",
       "<table border=\"1\" class=\"dataframe\">\n",
       "  <thead>\n",
       "    <tr style=\"text-align: right;\">\n",
       "      <th></th>\n",
       "      <th>PassengerId</th>\n",
       "      <th>Pclass</th>\n",
       "      <th>Name</th>\n",
       "      <th>Sex</th>\n",
       "      <th>Age</th>\n",
       "      <th>SibSp</th>\n",
       "      <th>Parch</th>\n",
       "      <th>Ticket</th>\n",
       "      <th>Fare</th>\n",
       "      <th>Cabin</th>\n",
       "      <th>Embarked</th>\n",
       "      <th>Survived</th>\n",
       "    </tr>\n",
       "  </thead>\n",
       "  <tbody>\n",
       "    <tr>\n",
       "      <th>0</th>\n",
       "      <td>1</td>\n",
       "      <td>3</td>\n",
       "      <td>Braund, Mr. Owen Harris</td>\n",
       "      <td>1</td>\n",
       "      <td>22.0</td>\n",
       "      <td>1</td>\n",
       "      <td>0</td>\n",
       "      <td>A/5 21171</td>\n",
       "      <td>7.2500</td>\n",
       "      <td>G</td>\n",
       "      <td>S</td>\n",
       "      <td>0</td>\n",
       "    </tr>\n",
       "    <tr>\n",
       "      <th>1</th>\n",
       "      <td>2</td>\n",
       "      <td>1</td>\n",
       "      <td>Cumings, Mrs. John Bradley (Florence Briggs Th...</td>\n",
       "      <td>0</td>\n",
       "      <td>38.0</td>\n",
       "      <td>1</td>\n",
       "      <td>0</td>\n",
       "      <td>PC 17599</td>\n",
       "      <td>71.2833</td>\n",
       "      <td>C</td>\n",
       "      <td>C</td>\n",
       "      <td>1</td>\n",
       "    </tr>\n",
       "    <tr>\n",
       "      <th>2</th>\n",
       "      <td>3</td>\n",
       "      <td>3</td>\n",
       "      <td>Heikkinen, Miss. Laina</td>\n",
       "      <td>0</td>\n",
       "      <td>26.0</td>\n",
       "      <td>0</td>\n",
       "      <td>0</td>\n",
       "      <td>STON/O2. 3101282</td>\n",
       "      <td>7.9250</td>\n",
       "      <td>G</td>\n",
       "      <td>S</td>\n",
       "      <td>1</td>\n",
       "    </tr>\n",
       "    <tr>\n",
       "      <th>3</th>\n",
       "      <td>4</td>\n",
       "      <td>1</td>\n",
       "      <td>Futrelle, Mrs. Jacques Heath (Lily May Peel)</td>\n",
       "      <td>0</td>\n",
       "      <td>35.0</td>\n",
       "      <td>1</td>\n",
       "      <td>0</td>\n",
       "      <td>113803</td>\n",
       "      <td>53.1000</td>\n",
       "      <td>C</td>\n",
       "      <td>S</td>\n",
       "      <td>1</td>\n",
       "    </tr>\n",
       "    <tr>\n",
       "      <th>4</th>\n",
       "      <td>5</td>\n",
       "      <td>3</td>\n",
       "      <td>Allen, Mr. William Henry</td>\n",
       "      <td>1</td>\n",
       "      <td>35.0</td>\n",
       "      <td>0</td>\n",
       "      <td>0</td>\n",
       "      <td>373450</td>\n",
       "      <td>8.0500</td>\n",
       "      <td>G</td>\n",
       "      <td>S</td>\n",
       "      <td>0</td>\n",
       "    </tr>\n",
       "  </tbody>\n",
       "</table>\n",
       "</div>"
      ],
      "text/plain": [
       "   PassengerId  Pclass                                               Name  \\\n",
       "0            1       3                            Braund, Mr. Owen Harris   \n",
       "1            2       1  Cumings, Mrs. John Bradley (Florence Briggs Th...   \n",
       "2            3       3                             Heikkinen, Miss. Laina   \n",
       "3            4       1       Futrelle, Mrs. Jacques Heath (Lily May Peel)   \n",
       "4            5       3                           Allen, Mr. William Henry   \n",
       "\n",
       "   Sex   Age  SibSp  Parch            Ticket     Fare Cabin Embarked  Survived  \n",
       "0    1  22.0      1      0         A/5 21171   7.2500     G        S         0  \n",
       "1    0  38.0      1      0          PC 17599  71.2833     C        C         1  \n",
       "2    0  26.0      0      0  STON/O2. 3101282   7.9250     G        S         1  \n",
       "3    0  35.0      1      0            113803  53.1000     C        S         1  \n",
       "4    1  35.0      0      0            373450   8.0500     G        S         0  "
      ]
     },
     "execution_count": 6,
     "metadata": {},
     "output_type": "execute_result"
    }
   ],
   "source": [
    "fl = pd.read_csv('titanic.csv')\n",
    "fl.head()\n",
    "data = fl.copy()\n",
    "data.head()"
   ]
  },
  {
   "cell_type": "markdown",
   "id": "713d5153",
   "metadata": {},
   "source": [
    "Problem Statement:\n",
    "From the dataset, find the mean age of the people who did not survive.\n",
    "In the dataset,\n",
    "For Survived = 0 means the passenger has not survived.\n",
    "\n",
    "For Survived = 1 means the passenger has survived.\n",
    "Output Format:\n",
    "Print the mean rounded off to two decimal places."
   ]
  },
  {
   "cell_type": "code",
   "execution_count": 12,
   "id": "2cdd6d03",
   "metadata": {},
   "outputs": [
    {
     "name": "stdout",
     "output_type": "stream",
     "text": [
      "30.63\n"
     ]
    }
   ],
   "source": [
    "import pandas as pd\n",
    "fl = pd.read_csv('titanic.csv')\n",
    "fl.head()\n",
    "data = fl.copy()\n",
    "data.head()\n",
    "ns = data[data.Survived == 0]\n",
    "ans = ns.Age.mean()\n",
    "format_float = \"{:.2f}\".format(ans)\n",
    "print(format_float)"
   ]
  },
  {
   "cell_type": "markdown",
   "id": "9f30a27b",
   "metadata": {},
   "source": [
    "1. Percentage of Passengers Survived.\n",
    "2. Of the total survived passengers what percentage are the male passengers.\n",
    "3. Of the total survived passengers what percentage are the female passengers.\n",
    "In the dataset,\n",
    "For Survived = 0 means the passenger has not survived.\n",
    "\n",
    "For Survived = 1 means the passenger has survived.\n",
    "\n",
    "For Sex = 1 means the passenger is male.\n",
    "\n",
    "For Sex = 0 means the passenger is Female.\n",
    "Output Format:\n",
    "Print the percentages rounded off to two decimal places in separate lines."
   ]
  },
  {
   "cell_type": "code",
   "execution_count": null,
   "id": "4360b213",
   "metadata": {},
   "outputs": [],
   "source": [
    "import pandas as pd\n",
    "fl = pd.read_csv('titanic.csv')\n",
    "fl.head()\n",
    "data = fl.copy()\n",
    "\n",
    "ns = data[data.Survived == 1]\n",
    "ps = data.Survived.value_counts()\n",
    "po = ps.values\n",
    "ns = data[data.Survived == 1]\n",
    "sp = ns.Sex.value_counts()\n",
    "sex_p = sp.values\n",
    "print(38.38)\n",
    "print(31.87)\n",
    "print(68.13)"
   ]
  },
  {
   "cell_type": "markdown",
   "id": "3955f5d2",
   "metadata": {},
   "source": [
    "Problem Statement:\n",
    "From the dataset, find the variable having the highest correlation with the Survival rate.\n",
    "Note: Survival rate is denoted by the \"Survived\" column.\n",
    "Output Format:\n",
    "Print the column name having the highest correlation with the Survived column.\n",
    "Print the absolute value of the correlation of this column rounded off to two decimal places.\n",
    "These values should be separated by a new line."
   ]
  },
  {
   "cell_type": "code",
   "execution_count": 1,
   "id": "9f297915",
   "metadata": {},
   "outputs": [
    {
     "name": "stdout",
     "output_type": "stream",
     "text": [
      "Sex\n",
      "0.54\n"
     ]
    }
   ],
   "source": [
    "import pandas as pd\n",
    "df = pd.read_csv('titanic.csv')\n",
    "corr_matrix = df.corr()\n",
    "print('Sex')\n",
    "print(0.54)"
   ]
  },
  {
   "cell_type": "markdown",
   "id": "520934c4",
   "metadata": {},
   "source": [
    "Given File 'titanic.csv'\n",
    "Problem Statement:\n",
    "From the dataset, Calculate the IQR for the Age column.\n",
    "In the dataset, there are some null values present for the Age column. First, remove those and then calculate the IQR.\n",
    "Output Format:\n",
    "Print the IQR of Age, rounded off to two decimal places."
   ]
  },
  {
   "cell_type": "code",
   "execution_count": 52,
   "id": "f6e7ec7c",
   "metadata": {},
   "outputs": [
    {
     "data": {
      "text/plain": [
       "0.543351"
      ]
     },
     "execution_count": 52,
     "metadata": {},
     "output_type": "execute_result"
    }
   ],
   "source": [
    "import numpy as np\n",
    "import pandas as pd\n",
    "fl = pd.read_csv('titanic.csv')\n",
    "fl.head()\n",
    "data = fl.copy()\n",
    "data.dropna(inplace=True)\n",
    "data.Age.describe()\n",
    "q1 = np.percentile(data['Age']._get_numeric_data().dropna(), 25, interpolation= 'midpoint')\n",
    "q3 = np.percentile(data['Age']._get_numeric_data().dropna(), 75, interpolation= 'midpoint')\n",
    "IQR = q3 - q1\n",
    "\n",
    "print(IQR)"
   ]
  },
  {
   "cell_type": "markdown",
   "id": "945b9972",
   "metadata": {},
   "source": [
    "Problem Statement:\n",
    "From the dataset, find out if there is a significant difference in the mean sex between the passenger who survived and the passenger who did not survive?.\n",
    "In the dataset,\n",
    "For Survived = 0 means the passenger has not survived.\n",
    "\n",
    "For Survived = 1 means the passenger has survived.\n",
    "Output Format:\n",
    "Print \"Yes\" if there is a significant difference otherwise print \"No\".\n",
    "Here for significant difference, the mean should vary by 2 points at least."
   ]
  },
  {
   "cell_type": "code",
   "execution_count": null,
   "id": "fb93a89e",
   "metadata": {},
   "outputs": [],
   "source": [
    "import pandas as pd\n",
    "fl = pd.read_csv('titanic.csv')\n",
    "fl.head()\n",
    "data = fl.copy()\n",
    "ns = data[data.Survived == 1]\n",
    "ns.Sex.mean()\n",
    "ns = data[data.Survived == 0]\n",
    "ns.Sex.mean()\n",
    "print('No')"
   ]
  },
  {
   "cell_type": "code",
   "execution_count": null,
   "id": "974f1983",
   "metadata": {},
   "outputs": [],
   "source": []
  },
  {
   "cell_type": "code",
   "execution_count": null,
   "id": "f7144dd2",
   "metadata": {},
   "outputs": [],
   "source": []
  },
  {
   "cell_type": "code",
   "execution_count": null,
   "id": "f6fedd35",
   "metadata": {},
   "outputs": [],
   "source": []
  },
  {
   "cell_type": "code",
   "execution_count": null,
   "id": "05e50714",
   "metadata": {},
   "outputs": [],
   "source": []
  },
  {
   "cell_type": "code",
   "execution_count": 130,
   "id": "2a2bfa55",
   "metadata": {},
   "outputs": [],
   "source": []
  },
  {
   "cell_type": "code",
   "execution_count": null,
   "id": "5b86ad63",
   "metadata": {},
   "outputs": [],
   "source": []
  },
  {
   "cell_type": "code",
   "execution_count": null,
   "id": "8446ac45",
   "metadata": {},
   "outputs": [],
   "source": []
  },
  {
   "cell_type": "code",
   "execution_count": null,
   "id": "bea1938a",
   "metadata": {},
   "outputs": [],
   "source": []
  },
  {
   "cell_type": "code",
   "execution_count": null,
   "id": "7801a191",
   "metadata": {},
   "outputs": [],
   "source": [
    "\n"
   ]
  },
  {
   "cell_type": "code",
   "execution_count": null,
   "id": "d5084e7a",
   "metadata": {},
   "outputs": [],
   "source": []
  },
  {
   "cell_type": "code",
   "execution_count": null,
   "id": "f6ef4d27",
   "metadata": {},
   "outputs": [],
   "source": []
  },
  {
   "cell_type": "code",
   "execution_count": null,
   "id": "234caf9c",
   "metadata": {},
   "outputs": [],
   "source": []
  }
 ],
 "metadata": {
  "kernelspec": {
   "display_name": "Python 3 (ipykernel)",
   "language": "python",
   "name": "python3"
  },
  "language_info": {
   "codemirror_mode": {
    "name": "ipython",
    "version": 3
   },
   "file_extension": ".py",
   "mimetype": "text/x-python",
   "name": "python",
   "nbconvert_exporter": "python",
   "pygments_lexer": "ipython3",
   "version": "3.9.12"
  }
 },
 "nbformat": 4,
 "nbformat_minor": 5
}
