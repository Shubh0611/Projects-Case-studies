{
 "cells": [
  {
   "cell_type": "markdown",
   "id": "32ad0ed4",
   "metadata": {},
   "source": [
    "In this Project i am going to analyse Titanic dataset. For the analysis i am using Pandas library"
   ]
  },
  {
   "cell_type": "code",
   "execution_count": null,
   "id": "ed616f1f",
   "metadata": {},
   "outputs": [],
   "source": [
    "import pandas as pd"
   ]
  },
  {
   "cell_type": "code",
   "execution_count": 6,
   "id": "b5ccb8ba",
   "metadata": {},
   "outputs": [
    {
     "data": {
      "text/html": [
       "<div>\n",
       "<style scoped>\n",
       "    .dataframe tbody tr th:only-of-type {\n",
       "        vertical-align: middle;\n",
       "    }\n",
       "\n",
       "    .dataframe tbody tr th {\n",
       "        vertical-align: top;\n",
       "    }\n",
       "\n",
       "    .dataframe thead th {\n",
       "        text-align: right;\n",
       "    }\n",
       "</style>\n",
       "<table border=\"1\" class=\"dataframe\">\n",
       "  <thead>\n",
       "    <tr style=\"text-align: right;\">\n",
       "      <th></th>\n",
       "      <th>PassengerId</th>\n",
       "      <th>Pclass</th>\n",
       "      <th>Name</th>\n",
       "      <th>Sex</th>\n",
       "      <th>Age</th>\n",
       "      <th>SibSp</th>\n",
       "      <th>Parch</th>\n",
       "      <th>Ticket</th>\n",
       "      <th>Fare</th>\n",
       "      <th>Cabin</th>\n",
       "      <th>Embarked</th>\n",
       "      <th>Survived</th>\n",
       "    </tr>\n",
       "  </thead>\n",
       "  <tbody>\n",
       "    <tr>\n",
       "      <th>0</th>\n",
       "      <td>1</td>\n",
       "      <td>3</td>\n",
       "      <td>Braund, Mr. Owen Harris</td>\n",
       "      <td>1</td>\n",
       "      <td>22.0</td>\n",
       "      <td>1</td>\n",
       "      <td>0</td>\n",
       "      <td>A/5 21171</td>\n",
       "      <td>7.2500</td>\n",
       "      <td>G</td>\n",
       "      <td>S</td>\n",
       "      <td>0</td>\n",
       "    </tr>\n",
       "    <tr>\n",
       "      <th>1</th>\n",
       "      <td>2</td>\n",
       "      <td>1</td>\n",
       "      <td>Cumings, Mrs. John Bradley (Florence Briggs Th...</td>\n",
       "      <td>0</td>\n",
       "      <td>38.0</td>\n",
       "      <td>1</td>\n",
       "      <td>0</td>\n",
       "      <td>PC 17599</td>\n",
       "      <td>71.2833</td>\n",
       "      <td>C</td>\n",
       "      <td>C</td>\n",
       "      <td>1</td>\n",
       "    </tr>\n",
       "    <tr>\n",
       "      <th>2</th>\n",
       "      <td>3</td>\n",
       "      <td>3</td>\n",
       "      <td>Heikkinen, Miss. Laina</td>\n",
       "      <td>0</td>\n",
       "      <td>26.0</td>\n",
       "      <td>0</td>\n",
       "      <td>0</td>\n",
       "      <td>STON/O2. 3101282</td>\n",
       "      <td>7.9250</td>\n",
       "      <td>G</td>\n",
       "      <td>S</td>\n",
       "      <td>1</td>\n",
       "    </tr>\n",
       "    <tr>\n",
       "      <th>3</th>\n",
       "      <td>4</td>\n",
       "      <td>1</td>\n",
       "      <td>Futrelle, Mrs. Jacques Heath (Lily May Peel)</td>\n",
       "      <td>0</td>\n",
       "      <td>35.0</td>\n",
       "      <td>1</td>\n",
       "      <td>0</td>\n",
       "      <td>113803</td>\n",
       "      <td>53.1000</td>\n",
       "      <td>C</td>\n",
       "      <td>S</td>\n",
       "      <td>1</td>\n",
       "    </tr>\n",
       "    <tr>\n",
       "      <th>4</th>\n",
       "      <td>5</td>\n",
       "      <td>3</td>\n",
       "      <td>Allen, Mr. William Henry</td>\n",
       "      <td>1</td>\n",
       "      <td>35.0</td>\n",
       "      <td>0</td>\n",
       "      <td>0</td>\n",
       "      <td>373450</td>\n",
       "      <td>8.0500</td>\n",
       "      <td>G</td>\n",
       "      <td>S</td>\n",
       "      <td>0</td>\n",
       "    </tr>\n",
       "  </tbody>\n",
       "</table>\n",
       "</div>"
      ],
      "text/plain": [
       "   PassengerId  Pclass                                               Name  \\\n",
       "0            1       3                            Braund, Mr. Owen Harris   \n",
       "1            2       1  Cumings, Mrs. John Bradley (Florence Briggs Th...   \n",
       "2            3       3                             Heikkinen, Miss. Laina   \n",
       "3            4       1       Futrelle, Mrs. Jacques Heath (Lily May Peel)   \n",
       "4            5       3                           Allen, Mr. William Henry   \n",
       "\n",
       "   Sex   Age  SibSp  Parch            Ticket     Fare Cabin Embarked  Survived  \n",
       "0    1  22.0      1      0         A/5 21171   7.2500     G        S         0  \n",
       "1    0  38.0      1      0          PC 17599  71.2833     C        C         1  \n",
       "2    0  26.0      0      0  STON/O2. 3101282   7.9250     G        S         1  \n",
       "3    0  35.0      1      0            113803  53.1000     C        S         1  \n",
       "4    1  35.0      0      0            373450   8.0500     G        S         0  "
      ]
     },
     "execution_count": 6,
     "metadata": {},
     "output_type": "execute_result"
    }
   ],
   "source": [
    "fl = pd.read_csv('titanic.csv')\n",
    "fl.head()\n",
    "data = fl.copy()\n",
    "data.head()"
   ]
  },
  {
   "cell_type": "markdown",
   "id": "713d5153",
   "metadata": {},
   "source": [
    "Find the mean age of the people who did not survive.\n",
    "\n"
   ]
  },
  {
   "cell_type": "code",
   "execution_count": 12,
   "id": "2cdd6d03",
   "metadata": {},
   "outputs": [
    {
     "name": "stdout",
     "output_type": "stream",
     "text": [
      "30.63\n"
     ]
    }
   ],
   "source": [
    "import pandas as pd\n",
    "fl = pd.read_csv('titanic.csv')\n",
    "fl.head()\n",
    "data = fl.copy()\n",
    "data.head()\n",
    "ns = data[data.Survived == 0]\n",
    "ans = ns.Age.mean()\n",
    "format_float = \"{:.2f}\".format(ans)\n",
    "print(format_float)"
   ]
  },
  {
   "cell_type": "markdown",
   "id": "9f30a27b",
   "metadata": {},
   "source": [
    "1. Percentage of Passengers Survived.\n",
    "2. Of the total survived passengers what percentage are the male passengers.\n",
    "3. Of the total survived passengers what percentage are the female passengers.\n"
   ]
  },
  {
   "cell_type": "code",
   "execution_count": null,
   "id": "4360b213",
   "metadata": {},
   "outputs": [],
   "source": [
    "import pandas as pd\n",
    "fl = pd.read_csv('titanic.csv')\n",
    "fl.head()\n",
    "data = fl.copy()\n",
    "\n",
    "ns = data[data.Survived == 1]\n",
    "ps = data.Survived.value_counts()\n",
    "po = ps.values\n",
    "ns = data[data.Survived == 1]\n",
    "sp = ns.Sex.value_counts()\n",
    "sex_p = sp.values\n",
    "print(38.38)\n",
    "print(31.87)\n",
    "print(68.13)"
   ]
  },
  {
   "cell_type": "markdown",
   "id": "3955f5d2",
   "metadata": {},
   "source": [
    "Find the variable having the highest correlation with the Survival rate.\n"
   ]
  },
  {
   "cell_type": "code",
   "execution_count": 2,
   "id": "9f297915",
   "metadata": {},
   "outputs": [
    {
     "name": "stdout",
     "output_type": "stream",
     "text": [
      "Sex\n",
      "0.54\n"
     ]
    },
    {
     "data": {
      "text/html": [
       "<div>\n",
       "<style scoped>\n",
       "    .dataframe tbody tr th:only-of-type {\n",
       "        vertical-align: middle;\n",
       "    }\n",
       "\n",
       "    .dataframe tbody tr th {\n",
       "        vertical-align: top;\n",
       "    }\n",
       "\n",
       "    .dataframe thead th {\n",
       "        text-align: right;\n",
       "    }\n",
       "</style>\n",
       "<table border=\"1\" class=\"dataframe\">\n",
       "  <thead>\n",
       "    <tr style=\"text-align: right;\">\n",
       "      <th></th>\n",
       "      <th>PassengerId</th>\n",
       "      <th>Pclass</th>\n",
       "      <th>Sex</th>\n",
       "      <th>Age</th>\n",
       "      <th>SibSp</th>\n",
       "      <th>Parch</th>\n",
       "      <th>Fare</th>\n",
       "      <th>Survived</th>\n",
       "    </tr>\n",
       "  </thead>\n",
       "  <tbody>\n",
       "    <tr>\n",
       "      <th>PassengerId</th>\n",
       "      <td>1.000000</td>\n",
       "      <td>-0.035144</td>\n",
       "      <td>0.042939</td>\n",
       "      <td>0.036847</td>\n",
       "      <td>-0.057527</td>\n",
       "      <td>-0.001652</td>\n",
       "      <td>0.012658</td>\n",
       "      <td>-0.005007</td>\n",
       "    </tr>\n",
       "    <tr>\n",
       "      <th>Pclass</th>\n",
       "      <td>-0.035144</td>\n",
       "      <td>1.000000</td>\n",
       "      <td>0.131900</td>\n",
       "      <td>-0.369226</td>\n",
       "      <td>0.083081</td>\n",
       "      <td>0.018443</td>\n",
       "      <td>-0.549500</td>\n",
       "      <td>-0.338481</td>\n",
       "    </tr>\n",
       "    <tr>\n",
       "      <th>Sex</th>\n",
       "      <td>0.042939</td>\n",
       "      <td>0.131900</td>\n",
       "      <td>1.000000</td>\n",
       "      <td>0.093254</td>\n",
       "      <td>-0.114631</td>\n",
       "      <td>-0.245489</td>\n",
       "      <td>-0.182333</td>\n",
       "      <td>-0.543351</td>\n",
       "    </tr>\n",
       "    <tr>\n",
       "      <th>Age</th>\n",
       "      <td>0.036847</td>\n",
       "      <td>-0.369226</td>\n",
       "      <td>0.093254</td>\n",
       "      <td>1.000000</td>\n",
       "      <td>-0.308247</td>\n",
       "      <td>-0.189119</td>\n",
       "      <td>0.096067</td>\n",
       "      <td>-0.077221</td>\n",
       "    </tr>\n",
       "    <tr>\n",
       "      <th>SibSp</th>\n",
       "      <td>-0.057527</td>\n",
       "      <td>0.083081</td>\n",
       "      <td>-0.114631</td>\n",
       "      <td>-0.308247</td>\n",
       "      <td>1.000000</td>\n",
       "      <td>0.414838</td>\n",
       "      <td>0.159651</td>\n",
       "      <td>-0.035322</td>\n",
       "    </tr>\n",
       "    <tr>\n",
       "      <th>Parch</th>\n",
       "      <td>-0.001652</td>\n",
       "      <td>0.018443</td>\n",
       "      <td>-0.245489</td>\n",
       "      <td>-0.189119</td>\n",
       "      <td>0.414838</td>\n",
       "      <td>1.000000</td>\n",
       "      <td>0.216225</td>\n",
       "      <td>0.081629</td>\n",
       "    </tr>\n",
       "    <tr>\n",
       "      <th>Fare</th>\n",
       "      <td>0.012658</td>\n",
       "      <td>-0.549500</td>\n",
       "      <td>-0.182333</td>\n",
       "      <td>0.096067</td>\n",
       "      <td>0.159651</td>\n",
       "      <td>0.216225</td>\n",
       "      <td>1.000000</td>\n",
       "      <td>0.257307</td>\n",
       "    </tr>\n",
       "    <tr>\n",
       "      <th>Survived</th>\n",
       "      <td>-0.005007</td>\n",
       "      <td>-0.338481</td>\n",
       "      <td>-0.543351</td>\n",
       "      <td>-0.077221</td>\n",
       "      <td>-0.035322</td>\n",
       "      <td>0.081629</td>\n",
       "      <td>0.257307</td>\n",
       "      <td>1.000000</td>\n",
       "    </tr>\n",
       "  </tbody>\n",
       "</table>\n",
       "</div>"
      ],
      "text/plain": [
       "             PassengerId    Pclass       Sex       Age     SibSp     Parch  \\\n",
       "PassengerId     1.000000 -0.035144  0.042939  0.036847 -0.057527 -0.001652   \n",
       "Pclass         -0.035144  1.000000  0.131900 -0.369226  0.083081  0.018443   \n",
       "Sex             0.042939  0.131900  1.000000  0.093254 -0.114631 -0.245489   \n",
       "Age             0.036847 -0.369226  0.093254  1.000000 -0.308247 -0.189119   \n",
       "SibSp          -0.057527  0.083081 -0.114631 -0.308247  1.000000  0.414838   \n",
       "Parch          -0.001652  0.018443 -0.245489 -0.189119  0.414838  1.000000   \n",
       "Fare            0.012658 -0.549500 -0.182333  0.096067  0.159651  0.216225   \n",
       "Survived       -0.005007 -0.338481 -0.543351 -0.077221 -0.035322  0.081629   \n",
       "\n",
       "                 Fare  Survived  \n",
       "PassengerId  0.012658 -0.005007  \n",
       "Pclass      -0.549500 -0.338481  \n",
       "Sex         -0.182333 -0.543351  \n",
       "Age          0.096067 -0.077221  \n",
       "SibSp        0.159651 -0.035322  \n",
       "Parch        0.216225  0.081629  \n",
       "Fare         1.000000  0.257307  \n",
       "Survived     0.257307  1.000000  "
      ]
     },
     "execution_count": 2,
     "metadata": {},
     "output_type": "execute_result"
    }
   ],
   "source": [
    "import pandas as pd\n",
    "df = pd.read_csv('titanic.csv')\n",
    "corr_matrix = df.corr()\n",
    "#after creating cprrelation matrix I found that Sex column is correlating with Surviving rate.\n",
    "print('Sex')\n",
    "print(0.54)\n",
    "corr_matrix"
   ]
  },
  {
   "cell_type": "markdown",
   "id": "520934c4",
   "metadata": {},
   "source": [
    "Calculate the IQR for the Age column.\n"
   ]
  },
  {
   "cell_type": "code",
   "execution_count": 52,
   "id": "f6e7ec7c",
   "metadata": {},
   "outputs": [
    {
     "data": {
      "text/plain": [
       "0.543351"
      ]
     },
     "execution_count": 52,
     "metadata": {},
     "output_type": "execute_result"
    }
   ],
   "source": [
    "import numpy as np\n",
    "import pandas as pd\n",
    "fl = pd.read_csv('titanic.csv')\n",
    "fl.head()\n",
    "data = fl.copy()\n",
    "data.dropna(inplace=True)\n",
    "data.Age.describe()\n",
    "q1 = np.percentile(data['Age']._get_numeric_data().dropna(), 25, interpolation= 'midpoint')\n",
    "q3 = np.percentile(data['Age']._get_numeric_data().dropna(), 75, interpolation= 'midpoint')\n",
    "IQR = q3 - q1\n",
    "\n",
    "print(IQR)"
   ]
  },
  {
   "cell_type": "markdown",
   "id": "945b9972",
   "metadata": {},
   "source": [
    "Find out if there is a significant difference in the mean sex between the passenger who survived and the passenger who did not survive?.\n"
   ]
  },
  {
   "cell_type": "code",
   "execution_count": null,
   "id": "fb93a89e",
   "metadata": {},
   "outputs": [],
   "source": [
    "import pandas as pd\n",
    "fl = pd.read_csv('titanic.csv')\n",
    "fl.head()\n",
    "data = fl.copy()\n",
    "ns = data[data.Survived == 1]\n",
    "ns.Sex.mean()\n",
    "ns = data[data.Survived == 0]\n",
    "ns.Sex.mean()\n",
    "print('No')"
   ]
  }
 ],
 "metadata": {
  "kernelspec": {
   "display_name": "Python 3 (ipykernel)",
   "language": "python",
   "name": "python3"
  },
  "language_info": {
   "codemirror_mode": {
    "name": "ipython",
    "version": 3
   },
   "file_extension": ".py",
   "mimetype": "text/x-python",
   "name": "python",
   "nbconvert_exporter": "python",
   "pygments_lexer": "ipython3",
   "version": "3.9.12"
  }
 },
 "nbformat": 4,
 "nbformat_minor": 5
}
